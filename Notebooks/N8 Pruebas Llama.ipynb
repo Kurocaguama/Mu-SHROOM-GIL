{
 "cells": [
  {
   "cell_type": "code",
   "execution_count": 1,
   "id": "7f86e94d-7790-4b42-be93-1fb225529e21",
   "metadata": {},
   "outputs": [],
   "source": [
    "import torch\n",
    "from huggingface_hub import login\n",
    "from transformers import pipeline\n",
    "\n",
    "# Don't forget your keeeeeeeeeeeeeeey."
   ]
  },
  {
   "cell_type": "code",
   "execution_count": 7,
   "id": "041d8faa-2ba4-478c-9098-618dee00284d",
   "metadata": {},
   "outputs": [
    {
     "data": {
      "text/plain": [
       "True"
      ]
     },
     "execution_count": 7,
     "metadata": {},
     "output_type": "execute_result"
    }
   ],
   "source": [
    "torch.cuda.is_available()"
   ]
  },
  {
   "cell_type": "code",
   "execution_count": 9,
   "id": "706b421f-ec5e-4bd1-8214-c49f09d248ff",
   "metadata": {},
   "outputs": [
    {
     "data": {
      "text/plain": [
       "'NVIDIA GeForce RTX 3060 Ti'"
      ]
     },
     "execution_count": 9,
     "metadata": {},
     "output_type": "execute_result"
    }
   ],
   "source": [
    "torch.cuda.get_device_name()"
   ]
  },
  {
   "cell_type": "code",
   "execution_count": 22,
   "id": "1c44eba7-3c85-46f4-890a-c6a07a0261d0",
   "metadata": {},
   "outputs": [
    {
     "data": {
      "application/vnd.jupyter.widget-view+json": {
       "model_id": "10dd8bb242384ef197e325cfcc79d5e5",
       "version_major": 2,
       "version_minor": 0
      },
      "text/plain": [
       "Loading checkpoint shards:   0%|          | 0/2 [00:00<?, ?it/s]"
      ]
     },
     "metadata": {},
     "output_type": "display_data"
    }
   ],
   "source": [
    "model_instruct = \"meta-llama/Llama-3.2-3B-Instruct\"\n",
    "pipe1 = pipeline(\n",
    "    \"text-generation\",\n",
    "    model = model_instruct,\n",
    "    torch_dtype = torch.bfloat16,\n",
    "    device_map = \"auto\",\n",
    ")\n",
    "\n",
    "def llama_gen_viva_messi(ques, context):\n",
    "    prompt = f\"\"\"\n",
    "        You are a bot that answers trivia questions.\n",
    "        Be brief, answer in short sentences highlighting important information.\n",
    "        If the given text doesn't answer the question, answer as truthfully as you can with your own information.\n",
    "        \n",
    "        This is the trivia question you need to answer:\n",
    "        {ques}\n",
    "        \n",
    "        This is the text that you should use:\n",
    "        {context}\n",
    "    \"\"\"\n",
    "    messages = [\n",
    "        {\"role\": \"system\", \"content\": \"You are a chatbot that responds to general knowledge questions with high fidelity based on a given text. If the text doesn't give the correct information, answer with your own information.\"},\n",
    "        {\"role\": \"user\", \"content\": prompt}\n",
    "    ]\n",
    "    outputs = pipe1(\n",
    "        messages,\n",
    "        max_new_tokens = 256,\n",
    "    )\n",
    "    return outputs[0][\"generated_text\"][-1]"
   ]
  },
  {
   "cell_type": "code",
   "execution_count": 19,
   "id": "5ac61136-539d-4e30-997a-538f5acc03bd",
   "metadata": {},
   "outputs": [],
   "source": [
    "preg = \"Who did Leo Messi beat to win his three UEFA Champions Leagues?\"\n",
    "answer = \"Leo Messi won his champions leagues against Manchester United twice, and Juventus\""
   ]
  },
  {
   "cell_type": "code",
   "execution_count": 23,
   "id": "817bb195-b437-4151-9a59-b94c092fa707",
   "metadata": {},
   "outputs": [],
   "source": [
    "pregs = [\"When was Messi born?\", \"Where is Barcelona?\", \"What is a leap year?\"]\n",
    "ans = [\"Lionel Messi was born in 1987.\", \"Barcelona is a city.\", \"A leap year is a year that happens every four years and has an extra day on February 29th.\"]"
   ]
  },
  {
   "cell_type": "code",
   "execution_count": 20,
   "id": "0f6d2fac-f0bb-482c-9adc-9ca40d2a37e0",
   "metadata": {},
   "outputs": [
    {
     "name": "stderr",
     "output_type": "stream",
     "text": [
      "Setting `pad_token_id` to `eos_token_id`:128001 for open-end generation.\n"
     ]
    },
    {
     "name": "stdout",
     "output_type": "stream",
     "text": [
      "{'role': 'assistant', 'content': 'Based on the provided text, I can only confirm that Leo Messi won his UEFA Champions League against:\\n\\n- Manchester United twice\\n- Juventus'}\n",
      "CPU times: total: 5min 5s\n",
      "Wall time: 5min 5s\n"
     ]
    }
   ],
   "source": [
    "%%time\n",
    "hola = llama_gen_viva_messi(preg, answer)\n",
    "print(hola)"
   ]
  },
  {
   "cell_type": "code",
   "execution_count": 24,
   "id": "e4b18352-b85d-459d-9fa9-20222915f4a2",
   "metadata": {},
   "outputs": [
    {
     "name": "stderr",
     "output_type": "stream",
     "text": [
      "Setting `pad_token_id` to `eos_token_id`:128001 for open-end generation.\n",
      "Setting `pad_token_id` to `eos_token_id`:128001 for open-end generation.\n",
      "Setting `pad_token_id` to `eos_token_id`:128001 for open-end generation.\n"
     ]
    },
    {
     "name": "stdout",
     "output_type": "stream",
     "text": [
      "CPU times: total: 14min 29s\n",
      "Wall time: 14min 35s\n"
     ]
    }
   ],
   "source": [
    "%%time\n",
    "for i in range(len(pregs)):\n",
    "    aux = llama_gen_viva_messi(pregs[i], ans[i])"
   ]
  },
  {
   "cell_type": "code",
   "execution_count": 25,
   "id": "28a680d7-4e1a-449a-891c-b0a9e8f70109",
   "metadata": {},
   "outputs": [
    {
     "name": "stdout",
     "output_type": "stream",
     "text": [
      "{'role': 'assistant', 'content': 'A leap year is a year that occurs every 4 years, and it has 366 days, with an extra day added to February, making it a 29-day month instead of the usual 28 days.'}\n"
     ]
    }
   ],
   "source": []
  },
  {
   "cell_type": "code",
   "execution_count": null,
   "id": "c8dcd32f-790d-4f81-89bb-1b3cc06f4514",
   "metadata": {},
   "outputs": [],
   "source": []
  }
 ],
 "metadata": {
  "kernelspec": {
   "display_name": "Python 3 (ipykernel)",
   "language": "python",
   "name": "python3"
  },
  "language_info": {
   "codemirror_mode": {
    "name": "ipython",
    "version": 3
   },
   "file_extension": ".py",
   "mimetype": "text/x-python",
   "name": "python",
   "nbconvert_exporter": "python",
   "pygments_lexer": "ipython3",
   "version": "3.9.18"
  }
 },
 "nbformat": 4,
 "nbformat_minor": 5
}
