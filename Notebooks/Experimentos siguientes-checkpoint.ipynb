{
 "cells": [
  {
   "cell_type": "code",
   "execution_count": 1,
   "id": "9816fdb0-0a35-4efe-9ce3-a16c99562259",
   "metadata": {},
   "outputs": [
    {
     "name": "stderr",
     "output_type": "stream",
     "text": [
      "C:\\Users\\FLopezP\\AppData\\Roaming\\Python\\Python39\\site-packages\\requests\\__init__.py:102: RequestsDependencyWarning: urllib3 (2.1.0) or chardet (None)/charset_normalizer (2.0.7) doesn't match a supported version!\n",
      "  warnings.warn(\"urllib3 ({}) or chardet ({})/charset_normalizer ({}) doesn't match a supported \"\n"
     ]
    }
   ],
   "source": [
    "import wikipedia\n",
    "import transformers \n",
    "import pandas as pd"
   ]
  },
  {
   "cell_type": "code",
   "execution_count": 3,
   "id": "c738d1d8-2b40-458e-9759-3ee9c585486c",
   "metadata": {},
   "outputs": [
    {
     "data": {
      "text/html": [
       "<div>\n",
       "<style scoped>\n",
       "    .dataframe tbody tr th:only-of-type {\n",
       "        vertical-align: middle;\n",
       "    }\n",
       "\n",
       "    .dataframe tbody tr th {\n",
       "        vertical-align: top;\n",
       "    }\n",
       "\n",
       "    .dataframe thead th {\n",
       "        text-align: right;\n",
       "    }\n",
       "</style>\n",
       "<table border=\"1\" class=\"dataframe\">\n",
       "  <thead>\n",
       "    <tr style=\"text-align: right;\">\n",
       "      <th></th>\n",
       "      <th>id</th>\n",
       "      <th>lang</th>\n",
       "      <th>model_input</th>\n",
       "      <th>model_output_text</th>\n",
       "      <th>model_id</th>\n",
       "      <th>soft_labels</th>\n",
       "      <th>hard_labels</th>\n",
       "    </tr>\n",
       "  </thead>\n",
       "  <tbody>\n",
       "    <tr>\n",
       "      <th>0</th>\n",
       "      <td>1</td>\n",
       "      <td>EN</td>\n",
       "      <td>When was the restoration of the Sándor Palace ...</td>\n",
       "      <td>The restoration of Sándor Palace, also known ...</td>\n",
       "      <td>TheBloke/Mistral-7B-Instruct-v0.2-GGUF</td>\n",
       "      <td>[{'start': 33, 'prob': 0.33333333330000003, 'e...</td>\n",
       "      <td>[[53, 64], [151, 164], [165, 210], [211, 225],...</td>\n",
       "    </tr>\n",
       "    <tr>\n",
       "      <th>1</th>\n",
       "      <td>3</td>\n",
       "      <td>EN</td>\n",
       "      <td>Did the Scotland team debut in the UEFA Euro 1...</td>\n",
       "      <td>Yes, Scotland made their debut in the UEFA Eu...</td>\n",
       "      <td>TheBloke/Mistral-7B-Instruct-v0.2-GGUF</td>\n",
       "      <td>[{'start': 1, 'prob': 0.6666666667000001, 'end...</td>\n",
       "      <td>[[1, 4], [49, 53], [87, 103], [232, 246], [262...</td>\n",
       "    </tr>\n",
       "    <tr>\n",
       "      <th>2</th>\n",
       "      <td>4</td>\n",
       "      <td>FR</td>\n",
       "      <td>Contre quelles équipes l'Azerbaïdjan a-t-il ét...</td>\n",
       "      <td>L'équipe d'Azerbaïdjan n'a pas participé à l'...</td>\n",
       "      <td>TheBloke/Mistral-7B-Instruct-v0.2-GGUF</td>\n",
       "      <td>[{'start': 1, 'prob': 0.33333333330000003, 'en...</td>\n",
       "      <td>[[24, 55], [60, 162], [213, 320]]</td>\n",
       "    </tr>\n",
       "    <tr>\n",
       "      <th>3</th>\n",
       "      <td>8</td>\n",
       "      <td>FR</td>\n",
       "      <td>8437 Bernicla est-il un objet transneptunien ?</td>\n",
       "      <td>8437 Bernicla est-il un objet transneptunien?\\...</td>\n",
       "      <td>meta-llama/Meta-Llama-3-8B-Instruct</td>\n",
       "      <td>[{'start': 46, 'prob': 0.33333333330000003, 'e...</td>\n",
       "      <td>[[71, 86], [90, 94], [184, 193], [269, 437], [...</td>\n",
       "    </tr>\n",
       "    <tr>\n",
       "      <th>4</th>\n",
       "      <td>9</td>\n",
       "      <td>EN</td>\n",
       "      <td>Over which state did Xiong Ai rule?</td>\n",
       "      <td>Xiong Ai was a Chinese warlord who lived duri...</td>\n",
       "      <td>TheBloke/Mistral-7B-Instruct-v0.2-GGUF</td>\n",
       "      <td>[{'start': 10, 'prob': 0.33333333330000003, 'e...</td>\n",
       "      <td>[[24, 31], [42, 48], [75, 87], [92, 123], [140...</td>\n",
       "    </tr>\n",
       "  </tbody>\n",
       "</table>\n",
       "</div>"
      ],
      "text/plain": [
       "   id lang                                        model_input  \\\n",
       "0   1   EN  When was the restoration of the Sándor Palace ...   \n",
       "1   3   EN  Did the Scotland team debut in the UEFA Euro 1...   \n",
       "2   4   FR  Contre quelles équipes l'Azerbaïdjan a-t-il ét...   \n",
       "3   8   FR     8437 Bernicla est-il un objet transneptunien ?   \n",
       "4   9   EN                Over which state did Xiong Ai rule?   \n",
       "\n",
       "                                   model_output_text  \\\n",
       "0   The restoration of Sándor Palace, also known ...   \n",
       "1   Yes, Scotland made their debut in the UEFA Eu...   \n",
       "2   L'équipe d'Azerbaïdjan n'a pas participé à l'...   \n",
       "3  8437 Bernicla est-il un objet transneptunien?\\...   \n",
       "4   Xiong Ai was a Chinese warlord who lived duri...   \n",
       "\n",
       "                                 model_id  \\\n",
       "0  TheBloke/Mistral-7B-Instruct-v0.2-GGUF   \n",
       "1  TheBloke/Mistral-7B-Instruct-v0.2-GGUF   \n",
       "2  TheBloke/Mistral-7B-Instruct-v0.2-GGUF   \n",
       "3     meta-llama/Meta-Llama-3-8B-Instruct   \n",
       "4  TheBloke/Mistral-7B-Instruct-v0.2-GGUF   \n",
       "\n",
       "                                         soft_labels  \\\n",
       "0  [{'start': 33, 'prob': 0.33333333330000003, 'e...   \n",
       "1  [{'start': 1, 'prob': 0.6666666667000001, 'end...   \n",
       "2  [{'start': 1, 'prob': 0.33333333330000003, 'en...   \n",
       "3  [{'start': 46, 'prob': 0.33333333330000003, 'e...   \n",
       "4  [{'start': 10, 'prob': 0.33333333330000003, 'e...   \n",
       "\n",
       "                                         hard_labels  \n",
       "0  [[53, 64], [151, 164], [165, 210], [211, 225],...  \n",
       "1  [[1, 4], [49, 53], [87, 103], [232, 246], [262...  \n",
       "2                  [[24, 55], [60, 162], [213, 320]]  \n",
       "3  [[71, 86], [90, 94], [184, 193], [269, 437], [...  \n",
       "4  [[24, 31], [42, 48], [75, 87], [92, 123], [140...  "
      ]
     },
     "execution_count": 3,
     "metadata": {},
     "output_type": "execute_result"
    }
   ],
   "source": [
    "df = pd.read_json(r'C:\\Users\\FLopezP\\Documents\\GitHub\\Mu-SHROOM-GIL\\Datasets\\sample_ds\\sample_set.v1.json', lines=True) #Cambiar para directorio local\n",
    "df.head(5)"
   ]
  },
  {
   "cell_type": "code",
   "execution_count": 16,
   "id": "0c21a2a3-7b88-4800-8159-c7dbaab58beb",
   "metadata": {},
   "outputs": [
    {
     "name": "stdout",
     "output_type": "stream",
     "text": [
      "['When was the restoration of the Sándor Palace completed?', 'Did the Scotland team debut in the UEFA Euro 1996 qualifying phase?', 'Over which state did Xiong Ai rule?']\n"
     ]
    }
   ],
   "source": [
    "a = []\n",
    "for i in range(len(df)):\n",
    "    if df.loc[i][\"lang\"] == \"EN\":\n",
    "        a.append(df.loc[i][\"model_input\"])\n",
    "print(a)"
   ]
  },
  {
   "cell_type": "code",
   "execution_count": 18,
   "id": "45aa9834-377c-4b39-951e-98286349d3f4",
   "metadata": {},
   "outputs": [
    {
     "name": "stdout",
     "output_type": "stream",
     "text": [
      "Sándor-Metternich mansion ['Sándor-Metternich mansion', 'Palace of Westminster', 'Jal Mahal', 'Edirne Palace', 'La Moneda Palace']\n",
      "The Sándor-Metternich mansion (Hungarian: Sándor–Metternich-kastély) is a classicist manor in Bajna in Esztergom County, Hungary. It lies approximately 50 kilometres northwest of Budapest. It was the main country residence of the Metternich-Sándor family. It has been restored from ruins with the help of the European Union and is open for visitors.\n",
      "\n",
      "\n",
      "----\n",
      "UEFA Euro 1996 qualifying ['UEFA Euro 1996 qualifying', 'UEFA Euro 2024 qualifying', 'UEFA Euro 1992 qualifying', \"UEFA Women's Euro 2025 qualifying\", 'UEFA Euro 2024']\n",
      "Qualifying for UEFA Euro 1996 took place throughout 1994 and 1995. Forty-seven teams were divided into eight groups, with each team playing the others in their group both home and away. The winners of each group and the six best runners-up qualified automatically, while the two worst runners-up were involved in a play-off at a neutral venue. England qualified automatically as hosts of the event.\n",
      "This was the first European Championship qualifying phase in which three points were awarded for each win, as opposed to the two points that had been awarded previously.\n",
      "\n",
      "\n",
      "----\n",
      "Chu (state) ['Chu (state)', 'Open-source artificial intelligence', 'War of the Eight Princes', 'List of Chinese monarchs', 'Xiongnu']\n",
      "Chu (Chinese: 楚; pinyin: Chǔ; Wade–Giles: Ch'u, Old Chinese: *s-r̥aʔ) was an ancient Chinese state during the Zhou dynasty. Their first ruler was King Wu of Chu in the early 8th century BC. Chu was located in the south of the Zhou heartland and lasted during the Spring and Autumn period. At the end of the Warring States period it was destroyed by the Qin in 223 BC during the Qin's wars of unification.\n",
      "Also known as Jing (荊) and Jingchu (荊楚), Chu included most of the present-day provinces of Hubei and Hunan, along with parts of Chongqing, Guizhou, Henan, Anhui, Jiangxi, Jiangsu, Zhejiang, and Shanghai. For more than 400 years, the Chu capital Danyang was located at the junction of the Dan and Xi Rivers near present-day Xichuan County, Henan, but later moved to Ying. The house of Chu originally bore the ancestral temple surname Nai (嬭 OC:  /*rneːlʔ/) which was later written as Mi (芈 OC: /*meʔ/). They also bore the lineage name Yan (酓 OC: /*qlamʔ/, /*qʰɯːm/) which would later be written Xiong (熊 OC: /*ɢʷlɯm/).\n",
      "\n",
      "\n",
      "----\n"
     ]
    }
   ],
   "source": [
    "for _ in a:\n",
    "    search = wikipedia.search(_, results=5)\n",
    "    aux = search[0]\n",
    "    print(aux, search)\n",
    "    print(wikipedia.summary(aux))\n",
    "    print(\"----\")"
   ]
  },
  {
   "cell_type": "markdown",
   "id": "de7d2cc0-df80-4f0f-bfeb-e6c056220beb",
   "metadata": {},
   "source": [
    "Una idea inicial es obtener un resumen proveniente de Wikipedia para poder usar un modelo de verificación de halucinaciones como:\n",
    "https://huggingface.co/vectara/hallucination_evaluation_model\n",
    "O hacer un finetuning de:\n",
    "https://huggingface.co/FacebookAI/xlm-roberta-large\n",
    "\n",
    "Se podría tener un sistema tipo NER para obtener los valores importantes de la pregunta y obtener un resumen más adecuado. Pero no sé de dónde pingas."
   ]
  },
  {
   "cell_type": "markdown",
   "id": "8a513e09-a66f-496f-9802-f1d51fd39817",
   "metadata": {},
   "source": [
    "Wikipedia API Docs: https://wikipedia.readthedocs.io/en/latest/code.html"
   ]
  },
  {
   "cell_type": "code",
   "execution_count": null,
   "id": "29911b8a-d77a-4844-8fda-890c1c9a6430",
   "metadata": {},
   "outputs": [],
   "source": []
  }
 ],
 "metadata": {
  "kernelspec": {
   "display_name": "Python 3 (ipykernel)",
   "language": "python",
   "name": "python3"
  },
  "language_info": {
   "codemirror_mode": {
    "name": "ipython",
    "version": 3
   },
   "file_extension": ".py",
   "mimetype": "text/x-python",
   "name": "python",
   "nbconvert_exporter": "python",
   "pygments_lexer": "ipython3",
   "version": "3.9.18"
  }
 },
 "nbformat": 4,
 "nbformat_minor": 5
}
