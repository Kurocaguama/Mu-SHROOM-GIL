{
 "cells": [
  {
   "cell_type": "code",
   "execution_count": 1,
   "id": "9389b66f-1d4d-4e5c-b942-e1519a3d8b24",
   "metadata": {},
   "outputs": [],
   "source": [
    "import wikipedia\n",
    "import pandas as pd\n",
    "import spacy"
   ]
  },
  {
   "cell_type": "code",
   "execution_count": 2,
   "id": "1f66cedb-f610-419a-86d5-fead42a8f300",
   "metadata": {},
   "outputs": [
    {
     "data": {
      "text/html": [
       "<div>\n",
       "<style scoped>\n",
       "    .dataframe tbody tr th:only-of-type {\n",
       "        vertical-align: middle;\n",
       "    }\n",
       "\n",
       "    .dataframe tbody tr th {\n",
       "        vertical-align: top;\n",
       "    }\n",
       "\n",
       "    .dataframe thead th {\n",
       "        text-align: right;\n",
       "    }\n",
       "</style>\n",
       "<table border=\"1\" class=\"dataframe\">\n",
       "  <thead>\n",
       "    <tr style=\"text-align: right;\">\n",
       "      <th></th>\n",
       "      <th>lang</th>\n",
       "      <th>model_id</th>\n",
       "      <th>model_input</th>\n",
       "      <th>model_output_text</th>\n",
       "      <th>model_output_logits</th>\n",
       "      <th>model_output_tokens</th>\n",
       "    </tr>\n",
       "  </thead>\n",
       "  <tbody>\n",
       "    <tr>\n",
       "      <th>0</th>\n",
       "      <td>EN</td>\n",
       "      <td>togethercomputer/Pythia-Chat-Base-7B</td>\n",
       "      <td>Do all arthropods have antennae?</td>\n",
       "      <td>Yes, all insects and arachnids (including spi...</td>\n",
       "      <td>[-2.57427001, 5.1865358353, 5.4173498154, 2.32...</td>\n",
       "      <td>[ĠYes, ,, Ġall, Ġinsects, Ġand, Ġar, ach, n, i...</td>\n",
       "    </tr>\n",
       "    <tr>\n",
       "      <th>1</th>\n",
       "      <td>EN</td>\n",
       "      <td>togethercomputer/Pythia-Chat-Base-7B</td>\n",
       "      <td>Do all arthropods have antennae?</td>\n",
       "      <td>Yes, all insects and arachnids have at least ...</td>\n",
       "      <td>[-2.57427001, 5.1865358353, 5.4173498154, 2.32...</td>\n",
       "      <td>[ĠYes, ,, Ġall, Ġinsects, Ġand, Ġar, ach, n, i...</td>\n",
       "    </tr>\n",
       "    <tr>\n",
       "      <th>2</th>\n",
       "      <td>EN</td>\n",
       "      <td>togethercomputer/Pythia-Chat-Base-7B</td>\n",
       "      <td>Do all arthropods have antennae?</td>\n",
       "      <td>Yes, all insects and arachnids (including spi...</td>\n",
       "      <td>[-2.57427001, 5.1865358353, 5.4173498154, 2.32...</td>\n",
       "      <td>[ĠYes, ,, Ġall, Ġinsects, Ġand, Ġar, ach, n, i...</td>\n",
       "    </tr>\n",
       "    <tr>\n",
       "      <th>3</th>\n",
       "      <td>EN</td>\n",
       "      <td>togethercomputer/Pythia-Chat-Base-7B</td>\n",
       "      <td>Do all arthropods have antennae?</td>\n",
       "      <td>Yes, all insects and arachnids (including spi...</td>\n",
       "      <td>[-2.57427001, 5.1865358353, 5.4173498154, 2.32...</td>\n",
       "      <td>[ĠYes, ,, Ġall, Ġinsects, Ġand, Ġar, ach, n, i...</td>\n",
       "    </tr>\n",
       "    <tr>\n",
       "      <th>4</th>\n",
       "      <td>EN</td>\n",
       "      <td>togethercomputer/Pythia-Chat-Base-7B</td>\n",
       "      <td>Do all arthropods have antennae?</td>\n",
       "      <td>Yes, all insects and arachnids (including spi...</td>\n",
       "      <td>[-2.57427001, 5.1865358353, 5.4173498154, 2.32...</td>\n",
       "      <td>[ĠYes, ,, Ġall, Ġinsects, Ġand, Ġar, ach, n, i...</td>\n",
       "    </tr>\n",
       "  </tbody>\n",
       "</table>\n",
       "</div>"
      ],
      "text/plain": [
       "  lang                              model_id  \\\n",
       "0   EN  togethercomputer/Pythia-Chat-Base-7B   \n",
       "1   EN  togethercomputer/Pythia-Chat-Base-7B   \n",
       "2   EN  togethercomputer/Pythia-Chat-Base-7B   \n",
       "3   EN  togethercomputer/Pythia-Chat-Base-7B   \n",
       "4   EN  togethercomputer/Pythia-Chat-Base-7B   \n",
       "\n",
       "                        model_input  \\\n",
       "0  Do all arthropods have antennae?   \n",
       "1  Do all arthropods have antennae?   \n",
       "2  Do all arthropods have antennae?   \n",
       "3  Do all arthropods have antennae?   \n",
       "4  Do all arthropods have antennae?   \n",
       "\n",
       "                                   model_output_text  \\\n",
       "0   Yes, all insects and arachnids (including spi...   \n",
       "1   Yes, all insects and arachnids have at least ...   \n",
       "2   Yes, all insects and arachnids (including spi...   \n",
       "3   Yes, all insects and arachnids (including spi...   \n",
       "4   Yes, all insects and arachnids (including spi...   \n",
       "\n",
       "                                 model_output_logits  \\\n",
       "0  [-2.57427001, 5.1865358353, 5.4173498154, 2.32...   \n",
       "1  [-2.57427001, 5.1865358353, 5.4173498154, 2.32...   \n",
       "2  [-2.57427001, 5.1865358353, 5.4173498154, 2.32...   \n",
       "3  [-2.57427001, 5.1865358353, 5.4173498154, 2.32...   \n",
       "4  [-2.57427001, 5.1865358353, 5.4173498154, 2.32...   \n",
       "\n",
       "                                 model_output_tokens  \n",
       "0  [ĠYes, ,, Ġall, Ġinsects, Ġand, Ġar, ach, n, i...  \n",
       "1  [ĠYes, ,, Ġall, Ġinsects, Ġand, Ġar, ach, n, i...  \n",
       "2  [ĠYes, ,, Ġall, Ġinsects, Ġand, Ġar, ach, n, i...  \n",
       "3  [ĠYes, ,, Ġall, Ġinsects, Ġand, Ġar, ach, n, i...  \n",
       "4  [ĠYes, ,, Ġall, Ġinsects, Ġand, Ġar, ach, n, i...  "
      ]
     },
     "execution_count": 2,
     "metadata": {},
     "output_type": "execute_result"
    }
   ],
   "source": [
    "df_en = pd.read_json(r'C:\\Users\\FLopezP\\Documents\\GitHub\\Mu-SHROOM-GIL\\Datasets\\train_ds\\mushroom.en-train_nolabel.v1.jsonl', lines=True) #Cambiar para directorio local\n",
    "df_en.head(5)"
   ]
  },
  {
   "cell_type": "code",
   "execution_count": 3,
   "id": "7497531e-7abc-4532-8856-ab225601fbef",
   "metadata": {},
   "outputs": [
    {
     "data": {
      "text/html": [
       "<div>\n",
       "<style scoped>\n",
       "    .dataframe tbody tr th:only-of-type {\n",
       "        vertical-align: middle;\n",
       "    }\n",
       "\n",
       "    .dataframe tbody tr th {\n",
       "        vertical-align: top;\n",
       "    }\n",
       "\n",
       "    .dataframe thead th {\n",
       "        text-align: right;\n",
       "    }\n",
       "</style>\n",
       "<table border=\"1\" class=\"dataframe\">\n",
       "  <thead>\n",
       "    <tr style=\"text-align: right;\">\n",
       "      <th></th>\n",
       "      <th>lang</th>\n",
       "      <th>model_input</th>\n",
       "      <th>model_id</th>\n",
       "      <th>model_output_tokens</th>\n",
       "      <th>model_output_logits</th>\n",
       "      <th>model_output_text</th>\n",
       "    </tr>\n",
       "  </thead>\n",
       "  <tbody>\n",
       "    <tr>\n",
       "      <th>0</th>\n",
       "      <td>ES</td>\n",
       "      <td>¿Dónde está ubicado Cilleruelo de San Mamés?</td>\n",
       "      <td>meta-llama/Meta-Llama-3-8B-Instruct</td>\n",
       "      <td>[C, iller, uel, o, Ġde, ĠSan, ĠMam, Ã©s, Ġes, ...</td>\n",
       "      <td>[25.4848022461, 31.8824501038, 37.6627693176, ...</td>\n",
       "      <td>Cilleruelo de San Mamés es un municipio situad...</td>\n",
       "    </tr>\n",
       "    <tr>\n",
       "      <th>1</th>\n",
       "      <td>ES</td>\n",
       "      <td>¿Cuándo fue creada la comuna suiza Gampel-Brat...</td>\n",
       "      <td>meta-llama/Meta-Llama-3-8B-Instruct</td>\n",
       "      <td>[La, Ġcom, una, Ġsu, iza, Ġde, ĠG, amp, el, -,...</td>\n",
       "      <td>[20.9607429504, 21.4772224426, 31.493303299, 2...</td>\n",
       "      <td>La comuna suiza de Gampel-Bratsch fue creada e...</td>\n",
       "    </tr>\n",
       "    <tr>\n",
       "      <th>2</th>\n",
       "      <td>ES</td>\n",
       "      <td>¿Cuál es el único continente en el que habitan...</td>\n",
       "      <td>meta-llama/Meta-Llama-3-8B-Instruct</td>\n",
       "      <td>[La, Ġrespuesta, Ġes, ĠAustralia, ., ĠLos, Ġco...</td>\n",
       "      <td>[20.0091133118, 20.0120868683, 23.2712993622, ...</td>\n",
       "      <td>La respuesta es Australia. Los corvinos negros...</td>\n",
       "    </tr>\n",
       "    <tr>\n",
       "      <th>3</th>\n",
       "      <td>ES</td>\n",
       "      <td>¿Qué significa la abreviatura IOMMU?</td>\n",
       "      <td>meta-llama/Meta-Llama-3-8B-Instruct</td>\n",
       "      <td>[I, OM, MU, Ġes, Ġla, Ġab, rev, i, atura, Ġde,...</td>\n",
       "      <td>[27.5002536774, 26.0147819519, 33.4270744324, ...</td>\n",
       "      <td>IOMMU es la abreviatura de \"Input/Output Memor...</td>\n",
       "    </tr>\n",
       "    <tr>\n",
       "      <th>4</th>\n",
       "      <td>ES</td>\n",
       "      <td>¿Quién ganó la Copa de Clubes de Asia 1997-98?</td>\n",
       "      <td>meta-llama/Meta-Llama-3-8B-Instruct</td>\n",
       "      <td>[La, ĠCopa, Ġde, ĠClub, es, Ġde, ĠAsia, Ġ, 199...</td>\n",
       "      <td>[23.1833496094, 19.6576976776, 23.4080142975, ...</td>\n",
       "      <td>La Copa de Clubes de Asia 1997-98 fue ganada p...</td>\n",
       "    </tr>\n",
       "  </tbody>\n",
       "</table>\n",
       "</div>"
      ],
      "text/plain": [
       "  lang                                        model_input  \\\n",
       "0   ES       ¿Dónde está ubicado Cilleruelo de San Mamés?   \n",
       "1   ES  ¿Cuándo fue creada la comuna suiza Gampel-Brat...   \n",
       "2   ES  ¿Cuál es el único continente en el que habitan...   \n",
       "3   ES               ¿Qué significa la abreviatura IOMMU?   \n",
       "4   ES     ¿Quién ganó la Copa de Clubes de Asia 1997-98?   \n",
       "\n",
       "                              model_id  \\\n",
       "0  meta-llama/Meta-Llama-3-8B-Instruct   \n",
       "1  meta-llama/Meta-Llama-3-8B-Instruct   \n",
       "2  meta-llama/Meta-Llama-3-8B-Instruct   \n",
       "3  meta-llama/Meta-Llama-3-8B-Instruct   \n",
       "4  meta-llama/Meta-Llama-3-8B-Instruct   \n",
       "\n",
       "                                 model_output_tokens  \\\n",
       "0  [C, iller, uel, o, Ġde, ĠSan, ĠMam, Ã©s, Ġes, ...   \n",
       "1  [La, Ġcom, una, Ġsu, iza, Ġde, ĠG, amp, el, -,...   \n",
       "2  [La, Ġrespuesta, Ġes, ĠAustralia, ., ĠLos, Ġco...   \n",
       "3  [I, OM, MU, Ġes, Ġla, Ġab, rev, i, atura, Ġde,...   \n",
       "4  [La, ĠCopa, Ġde, ĠClub, es, Ġde, ĠAsia, Ġ, 199...   \n",
       "\n",
       "                                 model_output_logits  \\\n",
       "0  [25.4848022461, 31.8824501038, 37.6627693176, ...   \n",
       "1  [20.9607429504, 21.4772224426, 31.493303299, 2...   \n",
       "2  [20.0091133118, 20.0120868683, 23.2712993622, ...   \n",
       "3  [27.5002536774, 26.0147819519, 33.4270744324, ...   \n",
       "4  [23.1833496094, 19.6576976776, 23.4080142975, ...   \n",
       "\n",
       "                                   model_output_text  \n",
       "0  Cilleruelo de San Mamés es un municipio situad...  \n",
       "1  La comuna suiza de Gampel-Bratsch fue creada e...  \n",
       "2  La respuesta es Australia. Los corvinos negros...  \n",
       "3  IOMMU es la abreviatura de \"Input/Output Memor...  \n",
       "4  La Copa de Clubes de Asia 1997-98 fue ganada p...  "
      ]
     },
     "execution_count": 3,
     "metadata": {},
     "output_type": "execute_result"
    }
   ],
   "source": [
    "df_es = pd.read_json(r'C:\\Users\\FLopezP\\Documents\\GitHub\\Mu-SHROOM-GIL\\Datasets\\train_ds\\mushroom.es-train_nolabel.v1.jsonl', lines=True)\n",
    "df_es.head(5)"
   ]
  },
  {
   "cell_type": "code",
   "execution_count": 4,
   "id": "3b30d476-00fa-4989-ac2c-160876f31fa4",
   "metadata": {},
   "outputs": [],
   "source": [
    "# FUNCIONES\n",
    "\n",
    "# a = list; Lista de preguntas extraída del dataset.\n",
    "# Idealmente esa lista contiene todas las preguntas necesarias.\n",
    "# Regresa la lista de las palabras filtradas por PoST\n",
    "def noun_list(a):\n",
    "    post_spacy = spacy.load(\"en_core_web_sm\")\n",
    "    noun_list = []\n",
    "    nums = ['0','1','2','3','4','5','6','7','8','9']\n",
    "\n",
    "    for _ in a:\n",
    "        doc = post_spacy(_)\n",
    "        sub_noun = []\n",
    "        for token in doc:\n",
    "            if token.pos_ == \"NOUN\" or token.pos_ == \"PROPN\" or token.pos_ == \"NUM\":\n",
    "                sub_noun.append(token.text)\n",
    "            if token.pos_ == \"ADJ\" and token.text[0] in nums: #??\n",
    "                sub_noun.append(token.text)\n",
    "        noun_list.append(sub_noun)\n",
    "    return noun_list\n",
    "\n",
    "# n_list = list;  Lista obtenida con la función noun_list(). Debe de contener las preguntas preprocesadas.\n",
    "def keyword_por_preg(n_list):\n",
    "    keyword_list = []\n",
    "    for i in n_list:\n",
    "        keyword = ''\n",
    "        for j in i:\n",
    "            keyword = keyword + j + ' '\n",
    "        keyword_list.append(keyword)\n",
    "    return keyword_list\n",
    "\n",
    "# Esta función regresa el título de la página de wikipedia más relevante.\n",
    "# text = str ; El texto proveniente de keyword_list.\n",
    "def get_wikipage(text):\n",
    "    page_title = wikipedia.search(text, results = 2)\n",
    "    return wikipedia.page(page_title)"
   ]
  },
  {
   "cell_type": "code",
   "execution_count": 5,
   "id": "01bc931d-00e4-42c3-97e9-2a5633ee982d",
   "metadata": {},
   "outputs": [],
   "source": [
    "# dataset = pandas column; Correspondiente a la columna de \"model_input\" del dataset en cuestión\n",
    "\n",
    "# Nos regresa la lista de resúmenes correspondientes a cada \"model_input\".\n",
    "\n",
    "# Se puede optimizar verificando que el valor previo de la lista noun_list_perrona es el mismo que el actual.\n",
    "# Perdón por poner hacer este algoritmo cuadrático. ¿Quién me va a castigar? ¿Dios? ¿Karla? ¿Diego? No creo, así que en realidad puedo hacer lo que yo quiera.\n",
    "\n",
    "def wikipipeline(dataset):\n",
    "    input_column = dataset[\"model_input\"]\n",
    "    noun_list_perrona = noun_list(input_column)\n",
    "    key_list = keyword_por_preg(noun_list_perrona)\n",
    "\n",
    "    resumen_list = []\n",
    "    iterador = 0\n",
    "    for i in key_list:\n",
    "        pages = wikipedia.search(i, results = 2)\n",
    "        resumen = ''\n",
    "        for x in pages:\n",
    "            try:\n",
    "                page = wikipedia.WikipediaPage(x)\n",
    "            except wikipedia.exceptions.DisambiguationError: # Se usa para evitar problemas al encontrar la página adecuada.\n",
    "                print(i, page)\n",
    "            page_sum = page.summary\n",
    "            resumen = resumen + '' + page_sum\n",
    "        resumen_list.append(resumen)\n",
    "        iterador += 1\n",
    "    return resumen_list"
   ]
  },
  {
   "cell_type": "code",
   "execution_count": 6,
   "id": "690644ff-6670-45e1-872b-a0f771a8ea33",
   "metadata": {},
   "outputs": [
    {
     "name": "stderr",
     "output_type": "stream",
     "text": [
      "C:\\Users\\FLopezP\\Anaconda3\\envs\\ayuda_por_favor\\lib\\site-packages\\wikipedia\\wikipedia.py:389: GuessedAtParserWarning: No parser was explicitly specified, so I'm using the best available HTML parser for this system (\"html.parser\"). This usually isn't a problem, but if you run this code on another system, or in a different virtual environment, it may use a different parser and behave differently.\n",
      "\n",
      "The code that caused this warning is on line 389 of the file C:\\Users\\FLopezP\\Anaconda3\\envs\\ayuda_por_favor\\lib\\site-packages\\wikipedia\\wikipedia.py. To get rid of this warning, pass the additional argument 'features=\"html.parser\"' to the BeautifulSoup constructor.\n",
      "\n",
      "  lis = BeautifulSoup(html).find_all('li')\n"
     ]
    },
    {
     "name": "stdout",
     "output_type": "stream",
     "text": [
      "<WikipediaPage 'Municipalities of the canton of Fribourg'>\n",
      "<WikipediaPage 'Index of Florida-related articles'>\n",
      "<WikipediaPage 'Baltimore oriole'>\n",
      "<WikipediaPage 'Baltimore oriole'>\n",
      "<WikipediaPage 'Baltimore oriole'>\n",
      "<WikipediaPage 'Baltimore oriole'>\n",
      "<WikipediaPage 'Municipalities of the canton of Fribourg'>\n",
      "<WikipediaPage 'Edu Manga'>\n",
      "<WikipediaPage 'Edu Manga'>\n",
      "<WikipediaPage 'Edu Manga'>\n",
      "<WikipediaPage 'Edu Manga'>\n",
      "<WikipediaPage 'Edu Manga'>\n",
      "<WikipediaPage 'Edu Manga'>\n",
      "<WikipediaPage 'Edu Manga'>\n",
      "<WikipediaPage 'Edu Manga'>\n",
      "<WikipediaPage 'Edu Manga'>\n",
      "<WikipediaPage 'Index of Florida-related articles'>\n",
      "<WikipediaPage 'Baltimore oriole'>\n",
      "<WikipediaPage 'Baltimore oriole'>\n",
      "<WikipediaPage 'Baltimore oriole'>\n",
      "<WikipediaPage 'Baltimore oriole'>\n",
      "<WikipediaPage 'Baltimore oriole'>\n",
      "<WikipediaPage 'Baltimore oriole'>\n",
      "<WikipediaPage 'Baltimore oriole'>\n",
      "<WikipediaPage 'Baltimore oriole'>\n",
      "<WikipediaPage 'Baltimore oriole'>\n",
      "<WikipediaPage 'Baltimore oriole'>\n",
      "<WikipediaPage 'Löwenhielm family'>\n",
      "<WikipediaPage 'Ole Einar Bjørndalen'>\n",
      "<WikipediaPage 'Löwenhielm family'>\n",
      "<WikipediaPage 'Ole Einar Bjørndalen'>\n",
      "<WikipediaPage 'Löwenhielm family'>\n",
      "<WikipediaPage 'Ole Einar Bjørndalen'>\n",
      "<WikipediaPage 'Löwenhielm family'>\n",
      "<WikipediaPage 'Ole Einar Bjørndalen'>\n",
      "CPU times: total: 27.5 s\n",
      "Wall time: 12min 37s\n"
     ]
    }
   ],
   "source": [
    "%%time\n",
    "summary = wikipipeline(df_en)"
   ]
  },
  {
   "cell_type": "code",
   "execution_count": 9,
   "id": "bb869225-bd19-4f0b-945d-1118f11aaace",
   "metadata": {},
   "outputs": [
    {
     "name": "stdout",
     "output_type": "stream",
     "text": [
      "809 809\n"
     ]
    }
   ],
   "source": [
    "print(len(summary), len(df_en[\"model_input\"]))"
   ]
  },
  {
   "cell_type": "code",
   "execution_count": 10,
   "id": "43fd566f-231e-41d3-a8f8-d170196d971f",
   "metadata": {},
   "outputs": [
    {
     "name": "stdout",
     "output_type": "stream",
     "text": [
      "6787\n"
     ]
    }
   ],
   "source": [
    "# Longitud máxima de un resumen\n",
    "len_list = [len(_) for _ in summary]\n",
    "print(max(len_list))"
   ]
  },
  {
   "cell_type": "code",
   "execution_count": 11,
   "id": "824b4b78-f66b-4931-9a10-ec88208b1a7c",
   "metadata": {},
   "outputs": [
    {
     "data": {
      "application/vnd.jupyter.widget-view+json": {
       "model_id": "ae952161ac9d42c7976fd31f0ff860dc",
       "version_major": 2,
       "version_minor": 0
      },
      "text/plain": [
       "tokenizer_config.json:   0%|          | 0.00/444 [00:00<?, ?B/s]"
      ]
     },
     "metadata": {},
     "output_type": "display_data"
    },
    {
     "data": {
      "application/vnd.jupyter.widget-view+json": {
       "model_id": "1c2c2165a2a3494d861d3de98e0d2dfe",
       "version_major": 2,
       "version_minor": 0
      },
      "text/plain": [
       "sentencepiece.bpe.model:   0%|          | 0.00/5.07M [00:00<?, ?B/s]"
      ]
     },
     "metadata": {},
     "output_type": "display_data"
    },
    {
     "data": {
      "application/vnd.jupyter.widget-view+json": {
       "model_id": "a0a7ad98f1a94df4954abdbdab25e6d6",
       "version_major": 2,
       "version_minor": 0
      },
      "text/plain": [
       "tokenizer.json:   0%|          | 0.00/17.1M [00:00<?, ?B/s]"
      ]
     },
     "metadata": {},
     "output_type": "display_data"
    },
    {
     "data": {
      "application/vnd.jupyter.widget-view+json": {
       "model_id": "024ae7765071477792cd4c13b5bce36e",
       "version_major": 2,
       "version_minor": 0
      },
      "text/plain": [
       "special_tokens_map.json:   0%|          | 0.00/964 [00:00<?, ?B/s]"
      ]
     },
     "metadata": {},
     "output_type": "display_data"
    },
    {
     "data": {
      "application/vnd.jupyter.widget-view+json": {
       "model_id": "78d5cc1cca234794b3c3d6bf704bcbe1",
       "version_major": 2,
       "version_minor": 0
      },
      "text/plain": [
       "Fetching 30 files:   0%|          | 0/30 [00:00<?, ?it/s]"
      ]
     },
     "metadata": {},
     "output_type": "display_data"
    },
    {
     "data": {
      "application/vnd.jupyter.widget-view+json": {
       "model_id": "a3ef71cb8814422bb43896fdb2faafe0",
       "version_major": 2,
       "version_minor": 0
      },
      "text/plain": [
       ".gitattributes:   0%|          | 0.00/1.63k [00:00<?, ?B/s]"
      ]
     },
     "metadata": {},
     "output_type": "display_data"
    },
    {
     "data": {
      "application/vnd.jupyter.widget-view+json": {
       "model_id": "01beca8cfd62468ba77041fb39e7dde3",
       "version_major": 2,
       "version_minor": 0
      },
      "text/plain": [
       "imgs/.DS_Store:   0%|          | 0.00/6.15k [00:00<?, ?B/s]"
      ]
     },
     "metadata": {},
     "output_type": "display_data"
    },
    {
     "data": {
      "application/vnd.jupyter.widget-view+json": {
       "model_id": "28531605a95f4763b881c5041ca07d9f",
       "version_major": 2,
       "version_minor": 0
      },
      "text/plain": [
       "config.json:   0%|          | 0.00/687 [00:00<?, ?B/s]"
      ]
     },
     "metadata": {},
     "output_type": "display_data"
    },
    {
     "data": {
      "application/vnd.jupyter.widget-view+json": {
       "model_id": "d06b0a22e3f1407fb57b024fee689273",
       "version_major": 2,
       "version_minor": 0
      },
      "text/plain": [
       "imgs/bm25.jpg:   0%|          | 0.00/132k [00:00<?, ?B/s]"
      ]
     },
     "metadata": {},
     "output_type": "display_data"
    },
    {
     "data": {
      "application/vnd.jupyter.widget-view+json": {
       "model_id": "b9e4cf2a9ad048dc9f0675cc92ea9539",
       "version_major": 2,
       "version_minor": 0
      },
      "text/plain": [
       "colbert_linear.pt:   0%|          | 0.00/2.10M [00:00<?, ?B/s]"
      ]
     },
     "metadata": {},
     "output_type": "display_data"
    },
    {
     "data": {
      "application/vnd.jupyter.widget-view+json": {
       "model_id": "d3c7fd1307c049fc8825e835a967307e",
       "version_major": 2,
       "version_minor": 0
      },
      "text/plain": [
       "config_sentence_transformers.json:   0%|          | 0.00/123 [00:00<?, ?B/s]"
      ]
     },
     "metadata": {},
     "output_type": "display_data"
    },
    {
     "data": {
      "application/vnd.jupyter.widget-view+json": {
       "model_id": "3bf39f0cd67c4e52be1080628f7aa7c7",
       "version_major": 2,
       "version_minor": 0
      },
      "text/plain": [
       "1_Pooling/config.json:   0%|          | 0.00/191 [00:00<?, ?B/s]"
      ]
     },
     "metadata": {},
     "output_type": "display_data"
    },
    {
     "data": {
      "application/vnd.jupyter.widget-view+json": {
       "model_id": "325d2d54dfb0437c8d2bc0ee013bde6f",
       "version_major": 2,
       "version_minor": 0
      },
      "text/plain": [
       "imgs/long.jpg:   0%|          | 0.00/485k [00:00<?, ?B/s]"
      ]
     },
     "metadata": {},
     "output_type": "display_data"
    },
    {
     "data": {
      "application/vnd.jupyter.widget-view+json": {
       "model_id": "9701714a323041f18ba9021ad45f563d",
       "version_major": 2,
       "version_minor": 0
      },
      "text/plain": [
       "README.md:   0%|          | 0.00/15.8k [00:00<?, ?B/s]"
      ]
     },
     "metadata": {},
     "output_type": "display_data"
    },
    {
     "data": {
      "application/vnd.jupyter.widget-view+json": {
       "model_id": "a35fa1269692487896060bc6448ec4b5",
       "version_major": 2,
       "version_minor": 0
      },
      "text/plain": [
       "imgs/miracl.jpg:   0%|          | 0.00/576k [00:00<?, ?B/s]"
      ]
     },
     "metadata": {},
     "output_type": "display_data"
    },
    {
     "data": {
      "application/vnd.jupyter.widget-view+json": {
       "model_id": "66a20b2988984d65b8517630011b507e",
       "version_major": 2,
       "version_minor": 0
      },
      "text/plain": [
       "imgs/others.webp:   0%|          | 0.00/21.0k [00:00<?, ?B/s]"
      ]
     },
     "metadata": {},
     "output_type": "display_data"
    },
    {
     "data": {
      "application/vnd.jupyter.widget-view+json": {
       "model_id": "689e4828656d47069c469382565a6ef6",
       "version_major": 2,
       "version_minor": 0
      },
      "text/plain": [
       "long.jpg:   0%|          | 0.00/127k [00:00<?, ?B/s]"
      ]
     },
     "metadata": {},
     "output_type": "display_data"
    },
    {
     "data": {
      "application/vnd.jupyter.widget-view+json": {
       "model_id": "c5fd0cdbd157439e8051b8f5f08432ea",
       "version_major": 2,
       "version_minor": 0
      },
      "text/plain": [
       "imgs/mkqa.jpg:   0%|          | 0.00/608k [00:00<?, ?B/s]"
      ]
     },
     "metadata": {},
     "output_type": "display_data"
    },
    {
     "data": {
      "application/vnd.jupyter.widget-view+json": {
       "model_id": "fc890d42c05e4655b05482827ce6c120",
       "version_major": 2,
       "version_minor": 0
      },
      "text/plain": [
       "imgs/nqa.jpg:   0%|          | 0.00/158k [00:00<?, ?B/s]"
      ]
     },
     "metadata": {},
     "output_type": "display_data"
    },
    {
     "data": {
      "application/vnd.jupyter.widget-view+json": {
       "model_id": "383a87b599144eb4b34c25a67e69fed8",
       "version_major": 2,
       "version_minor": 0
      },
      "text/plain": [
       "onnx/config.json:   0%|          | 0.00/698 [00:00<?, ?B/s]"
      ]
     },
     "metadata": {},
     "output_type": "display_data"
    },
    {
     "data": {
      "application/vnd.jupyter.widget-view+json": {
       "model_id": "498daecb02884b9e9de6c9cd239dbf90",
       "version_major": 2,
       "version_minor": 0
      },
      "text/plain": [
       "onnx/Constant_7_attr__value:   0%|          | 0.00/65.6k [00:00<?, ?B/s]"
      ]
     },
     "metadata": {},
     "output_type": "display_data"
    },
    {
     "data": {
      "application/vnd.jupyter.widget-view+json": {
       "model_id": "155672b9264b460cbffb20997a3abb8d",
       "version_major": 2,
       "version_minor": 0
      },
      "text/plain": [
       "model.onnx:   0%|          | 0.00/725k [00:00<?, ?B/s]"
      ]
     },
     "metadata": {},
     "output_type": "display_data"
    },
    {
     "data": {
      "application/vnd.jupyter.widget-view+json": {
       "model_id": "2521065cb6674521b7538b19647da059",
       "version_major": 2,
       "version_minor": 0
      },
      "text/plain": [
       "modules.json:   0%|          | 0.00/349 [00:00<?, ?B/s]"
      ]
     },
     "metadata": {},
     "output_type": "display_data"
    },
    {
     "data": {
      "application/vnd.jupyter.widget-view+json": {
       "model_id": "899f42edd5dd47aeb90ac3bbc208b6e9",
       "version_major": 2,
       "version_minor": 0
      },
      "text/plain": [
       "onnx/tokenizer_config.json:   0%|          | 0.00/1.17k [00:00<?, ?B/s]"
      ]
     },
     "metadata": {},
     "output_type": "display_data"
    },
    {
     "data": {
      "application/vnd.jupyter.widget-view+json": {
       "model_id": "19d0afa6bd394900a7c978e787981513",
       "version_major": 2,
       "version_minor": 0
      },
      "text/plain": [
       "model.onnx_data:   0%|          | 0.00/2.27G [00:00<?, ?B/s]"
      ]
     },
     "metadata": {},
     "output_type": "display_data"
    },
    {
     "data": {
      "application/vnd.jupyter.widget-view+json": {
       "model_id": "55670bd96a6048b8b6fd6c62352da6b2",
       "version_major": 2,
       "version_minor": 0
      },
      "text/plain": [
       "tokenizer.json:   0%|          | 0.00/17.1M [00:00<?, ?B/s]"
      ]
     },
     "metadata": {},
     "output_type": "display_data"
    },
    {
     "data": {
      "application/vnd.jupyter.widget-view+json": {
       "model_id": "182626ad73524eafb65aad6cd9b94e57",
       "version_major": 2,
       "version_minor": 0
      },
      "text/plain": [
       "pytorch_model.bin:   0%|          | 0.00/2.27G [00:00<?, ?B/s]"
      ]
     },
     "metadata": {},
     "output_type": "display_data"
    },
    {
     "data": {
      "application/vnd.jupyter.widget-view+json": {
       "model_id": "2215d00b28de4f85a290c86dedf242ec",
       "version_major": 2,
       "version_minor": 0
      },
      "text/plain": [
       "sparse_linear.pt:   0%|          | 0.00/3.52k [00:00<?, ?B/s]"
      ]
     },
     "metadata": {},
     "output_type": "display_data"
    },
    {
     "data": {
      "application/vnd.jupyter.widget-view+json": {
       "model_id": "f67fdfc79ac84458b5c35d6088b24d77",
       "version_major": 2,
       "version_minor": 0
      },
      "text/plain": [
       "sentence_bert_config.json:   0%|          | 0.00/54.0 [00:00<?, ?B/s]"
      ]
     },
     "metadata": {},
     "output_type": "display_data"
    },
    {
     "name": "stderr",
     "output_type": "stream",
     "text": [
      "pre tokenize: 100%|██████████| 68/68 [00:00<00:00, 221.28it/s]\n",
      "You're using a XLMRobertaTokenizerFast tokenizer. Please note that with a fast tokenizer, using the `__call__` method is faster than using a method to encode the text followed by a call to the `pad` method to get a padded encoding.\n",
      "Inference Embeddings: 100%|██████████| 68/68 [00:18<00:00,  3.70it/s]\n"
     ]
    }
   ],
   "source": [
    "from FlagEmbedding import BGEM3FlagModel\n",
    "\n",
    "model = BGEM3FlagModel('BAAI/bge-m3', use_fp16 = True)\n",
    "embs = model.encode(\n",
    "    summary,\n",
    "    batch_size = 12,\n",
    "    max_length = 8192,\n",
    ")['dense_vecs']"
   ]
  },
  {
   "cell_type": "code",
   "execution_count": 34,
   "id": "74dfacc1-0a88-42fd-9a6e-61aed5b2e459",
   "metadata": {},
   "outputs": [
    {
     "data": {
      "text/html": [
       "<div>\n",
       "<style scoped>\n",
       "    .dataframe tbody tr th:only-of-type {\n",
       "        vertical-align: middle;\n",
       "    }\n",
       "\n",
       "    .dataframe tbody tr th {\n",
       "        vertical-align: top;\n",
       "    }\n",
       "\n",
       "    .dataframe thead th {\n",
       "        text-align: right;\n",
       "    }\n",
       "</style>\n",
       "<table border=\"1\" class=\"dataframe\">\n",
       "  <thead>\n",
       "    <tr style=\"text-align: right;\">\n",
       "      <th></th>\n",
       "      <th>Embedding</th>\n",
       "    </tr>\n",
       "  </thead>\n",
       "  <tbody>\n",
       "    <tr>\n",
       "      <th>0</th>\n",
       "      <td>[-0.02061, -0.03026, -0.02765, 0.0306, 0.00365...</td>\n",
       "    </tr>\n",
       "    <tr>\n",
       "      <th>1</th>\n",
       "      <td>[-0.02061, -0.03026, -0.02765, 0.0306, 0.00365...</td>\n",
       "    </tr>\n",
       "    <tr>\n",
       "      <th>2</th>\n",
       "      <td>[-0.02061, -0.03026, -0.02765, 0.0306, 0.00365...</td>\n",
       "    </tr>\n",
       "    <tr>\n",
       "      <th>3</th>\n",
       "      <td>[-0.02061, -0.03026, -0.02765, 0.0306, 0.00365...</td>\n",
       "    </tr>\n",
       "    <tr>\n",
       "      <th>4</th>\n",
       "      <td>[-0.02061, -0.03026, -0.02765, 0.0306, 0.00365...</td>\n",
       "    </tr>\n",
       "    <tr>\n",
       "      <th>...</th>\n",
       "      <td>...</td>\n",
       "    </tr>\n",
       "    <tr>\n",
       "      <th>804</th>\n",
       "      <td>[-0.03876, 0.003765, -0.02054, -0.03662, 0.012...</td>\n",
       "    </tr>\n",
       "    <tr>\n",
       "      <th>805</th>\n",
       "      <td>[0.02744, 0.02475, -0.05893, 0.0375, -0.01251,...</td>\n",
       "    </tr>\n",
       "    <tr>\n",
       "      <th>806</th>\n",
       "      <td>[-0.0385, -0.04596, -0.01163, 0.012856, 0.0183...</td>\n",
       "    </tr>\n",
       "    <tr>\n",
       "      <th>807</th>\n",
       "      <td>[0.03008, -0.006992, -0.048, 0.006443, -0.0417...</td>\n",
       "    </tr>\n",
       "    <tr>\n",
       "      <th>808</th>\n",
       "      <td>[-0.01672, -0.01646, -0.05493, 0.0093, 0.013, ...</td>\n",
       "    </tr>\n",
       "  </tbody>\n",
       "</table>\n",
       "<p>809 rows × 1 columns</p>\n",
       "</div>"
      ],
      "text/plain": [
       "                                             Embedding\n",
       "0    [-0.02061, -0.03026, -0.02765, 0.0306, 0.00365...\n",
       "1    [-0.02061, -0.03026, -0.02765, 0.0306, 0.00365...\n",
       "2    [-0.02061, -0.03026, -0.02765, 0.0306, 0.00365...\n",
       "3    [-0.02061, -0.03026, -0.02765, 0.0306, 0.00365...\n",
       "4    [-0.02061, -0.03026, -0.02765, 0.0306, 0.00365...\n",
       "..                                                 ...\n",
       "804  [-0.03876, 0.003765, -0.02054, -0.03662, 0.012...\n",
       "805  [0.02744, 0.02475, -0.05893, 0.0375, -0.01251,...\n",
       "806  [-0.0385, -0.04596, -0.01163, 0.012856, 0.0183...\n",
       "807  [0.03008, -0.006992, -0.048, 0.006443, -0.0417...\n",
       "808  [-0.01672, -0.01646, -0.05493, 0.0093, 0.013, ...\n",
       "\n",
       "[809 rows x 1 columns]"
      ]
     },
     "execution_count": 34,
     "metadata": {},
     "output_type": "execute_result"
    }
   ],
   "source": [
    "embs_loco = [[_] for _ in embs]\n",
    "embs_df = pd.DataFrame(embs_loco)\n",
    "embs_df = embs_df.rename(columns={0:\"Embedding\"})\n",
    "embs_df"
   ]
  },
  {
   "cell_type": "code",
   "execution_count": null,
   "id": "bcbb667f-0b9a-4bf7-95a7-018fb876c7d0",
   "metadata": {},
   "outputs": [],
   "source": []
  }
 ],
 "metadata": {
  "kernelspec": {
   "display_name": "Python 3 (ipykernel)",
   "language": "python",
   "name": "python3"
  },
  "language_info": {
   "codemirror_mode": {
    "name": "ipython",
    "version": 3
   },
   "file_extension": ".py",
   "mimetype": "text/x-python",
   "name": "python",
   "nbconvert_exporter": "python",
   "pygments_lexer": "ipython3",
   "version": "3.9.18"
  }
 },
 "nbformat": 4,
 "nbformat_minor": 5
}
