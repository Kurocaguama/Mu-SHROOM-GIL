{
 "cells": [
  {
   "cell_type": "markdown",
   "id": "6e7b3dcf-487f-4f7c-88dd-95b397405479",
   "metadata": {},
   "source": [
    "## Análisis inicial del dataset\n",
    "\n",
    "El dataframeviene en versión json, nos interesan las columnas de \"model_output_text\", y los \"hard_labels\" para reconstruir las palabras que son consideradas como alucinaciones."
   ]
  },
  {
   "cell_type": "code",
   "execution_count": 1,
   "id": "6f78d18e-f785-4b62-b4c7-8adb3f8da2ed",
   "metadata": {},
   "outputs": [],
   "source": [
    "import pandas as pd"
   ]
  },
  {
   "cell_type": "code",
   "execution_count": 2,
   "id": "37fc75ed-b56e-435d-8bac-45ec3ae00913",
   "metadata": {
    "scrolled": true
   },
   "outputs": [
    {
     "data": {
      "text/html": [
       "<div>\n",
       "<style scoped>\n",
       "    .dataframe tbody tr th:only-of-type {\n",
       "        vertical-align: middle;\n",
       "    }\n",
       "\n",
       "    .dataframe tbody tr th {\n",
       "        vertical-align: top;\n",
       "    }\n",
       "\n",
       "    .dataframe thead th {\n",
       "        text-align: right;\n",
       "    }\n",
       "</style>\n",
       "<table border=\"1\" class=\"dataframe\">\n",
       "  <thead>\n",
       "    <tr style=\"text-align: right;\">\n",
       "      <th></th>\n",
       "      <th>id</th>\n",
       "      <th>lang</th>\n",
       "      <th>model_input</th>\n",
       "      <th>model_output_text</th>\n",
       "      <th>model_id</th>\n",
       "      <th>soft_labels</th>\n",
       "      <th>hard_labels</th>\n",
       "    </tr>\n",
       "  </thead>\n",
       "  <tbody>\n",
       "    <tr>\n",
       "      <th>0</th>\n",
       "      <td>1</td>\n",
       "      <td>EN</td>\n",
       "      <td>When was the restoration of the Sándor Palace ...</td>\n",
       "      <td>The restoration of Sándor Palace, also known ...</td>\n",
       "      <td>TheBloke/Mistral-7B-Instruct-v0.2-GGUF</td>\n",
       "      <td>[{'start': 33, 'prob': 0.33333333330000003, 'e...</td>\n",
       "      <td>[[53, 64], [151, 164], [165, 210], [211, 225],...</td>\n",
       "    </tr>\n",
       "    <tr>\n",
       "      <th>1</th>\n",
       "      <td>3</td>\n",
       "      <td>EN</td>\n",
       "      <td>Did the Scotland team debut in the UEFA Euro 1...</td>\n",
       "      <td>Yes, Scotland made their debut in the UEFA Eu...</td>\n",
       "      <td>TheBloke/Mistral-7B-Instruct-v0.2-GGUF</td>\n",
       "      <td>[{'start': 1, 'prob': 0.6666666667000001, 'end...</td>\n",
       "      <td>[[1, 4], [49, 53], [87, 103], [232, 246], [262...</td>\n",
       "    </tr>\n",
       "    <tr>\n",
       "      <th>2</th>\n",
       "      <td>4</td>\n",
       "      <td>FR</td>\n",
       "      <td>Contre quelles équipes l'Azerbaïdjan a-t-il ét...</td>\n",
       "      <td>L'équipe d'Azerbaïdjan n'a pas participé à l'...</td>\n",
       "      <td>TheBloke/Mistral-7B-Instruct-v0.2-GGUF</td>\n",
       "      <td>[{'start': 1, 'prob': 0.33333333330000003, 'en...</td>\n",
       "      <td>[[24, 55], [60, 162], [213, 320]]</td>\n",
       "    </tr>\n",
       "    <tr>\n",
       "      <th>3</th>\n",
       "      <td>8</td>\n",
       "      <td>FR</td>\n",
       "      <td>8437 Bernicla est-il un objet transneptunien ?</td>\n",
       "      <td>8437 Bernicla est-il un objet transneptunien?\\...</td>\n",
       "      <td>meta-llama/Meta-Llama-3-8B-Instruct</td>\n",
       "      <td>[{'start': 46, 'prob': 0.33333333330000003, 'e...</td>\n",
       "      <td>[[71, 86], [90, 94], [184, 193], [269, 437], [...</td>\n",
       "    </tr>\n",
       "    <tr>\n",
       "      <th>4</th>\n",
       "      <td>9</td>\n",
       "      <td>EN</td>\n",
       "      <td>Over which state did Xiong Ai rule?</td>\n",
       "      <td>Xiong Ai was a Chinese warlord who lived duri...</td>\n",
       "      <td>TheBloke/Mistral-7B-Instruct-v0.2-GGUF</td>\n",
       "      <td>[{'start': 10, 'prob': 0.33333333330000003, 'e...</td>\n",
       "      <td>[[24, 31], [42, 48], [75, 87], [92, 123], [140...</td>\n",
       "    </tr>\n",
       "    <tr>\n",
       "      <th>5</th>\n",
       "      <td>10</td>\n",
       "      <td>ES</td>\n",
       "      <td>¿Desde cuándo el palacio Sándor en Budapest fu...</td>\n",
       "      <td>El palais Sândor (también conocido como Palais...</td>\n",
       "      <td>Iker/Llama-3-Instruct-Neurona-8b-v2</td>\n",
       "      <td>[{'start': 3, 'prob': 0.33333333330000003, 'en...</td>\n",
       "      <td>[[40, 73], [183, 196], [203, 206], [226, 243],...</td>\n",
       "    </tr>\n",
       "    <tr>\n",
       "      <th>6</th>\n",
       "      <td>11</td>\n",
       "      <td>ES</td>\n",
       "      <td>¿Qué país logró clasificar en último lugar a l...</td>\n",
       "      <td>El país que logra clasificarse en el último pu...</td>\n",
       "      <td>Iker/Llama-3-Instruct-Neurona-8b-v2</td>\n",
       "      <td>[{'start': 86, 'prob': 0.6666666667000001, 'en...</td>\n",
       "      <td>[[86, 115], [120, 129], [149, 161], [174, 180]...</td>\n",
       "    </tr>\n",
       "    <tr>\n",
       "      <th>7</th>\n",
       "      <td>12</td>\n",
       "      <td>ES</td>\n",
       "      <td>¿Qué características presentan los miembros de...</td>\n",
       "      <td>Los miudades de Cladotholus, Cladoscypha y Cla...</td>\n",
       "      <td>Iker/Llama-3-Instruct-Neurona-8b-v2</td>\n",
       "      <td>[{'start': 4, 'prob': 1.0, 'end': 12}, {'start...</td>\n",
       "      <td>[[4, 12], [16, 27], [29, 40], [43, 54], [100, ...</td>\n",
       "    </tr>\n",
       "  </tbody>\n",
       "</table>\n",
       "</div>"
      ],
      "text/plain": [
       "   id lang                                        model_input  \\\n",
       "0   1   EN  When was the restoration of the Sándor Palace ...   \n",
       "1   3   EN  Did the Scotland team debut in the UEFA Euro 1...   \n",
       "2   4   FR  Contre quelles équipes l'Azerbaïdjan a-t-il ét...   \n",
       "3   8   FR     8437 Bernicla est-il un objet transneptunien ?   \n",
       "4   9   EN                Over which state did Xiong Ai rule?   \n",
       "5  10   ES  ¿Desde cuándo el palacio Sándor en Budapest fu...   \n",
       "6  11   ES  ¿Qué país logró clasificar en último lugar a l...   \n",
       "7  12   ES  ¿Qué características presentan los miembros de...   \n",
       "\n",
       "                                   model_output_text  \\\n",
       "0   The restoration of Sándor Palace, also known ...   \n",
       "1   Yes, Scotland made their debut in the UEFA Eu...   \n",
       "2   L'équipe d'Azerbaïdjan n'a pas participé à l'...   \n",
       "3  8437 Bernicla est-il un objet transneptunien?\\...   \n",
       "4   Xiong Ai was a Chinese warlord who lived duri...   \n",
       "5  El palais Sândor (también conocido como Palais...   \n",
       "6  El país que logra clasificarse en el último pu...   \n",
       "7  Los miudades de Cladotholus, Cladoscypha y Cla...   \n",
       "\n",
       "                                 model_id  \\\n",
       "0  TheBloke/Mistral-7B-Instruct-v0.2-GGUF   \n",
       "1  TheBloke/Mistral-7B-Instruct-v0.2-GGUF   \n",
       "2  TheBloke/Mistral-7B-Instruct-v0.2-GGUF   \n",
       "3     meta-llama/Meta-Llama-3-8B-Instruct   \n",
       "4  TheBloke/Mistral-7B-Instruct-v0.2-GGUF   \n",
       "5     Iker/Llama-3-Instruct-Neurona-8b-v2   \n",
       "6     Iker/Llama-3-Instruct-Neurona-8b-v2   \n",
       "7     Iker/Llama-3-Instruct-Neurona-8b-v2   \n",
       "\n",
       "                                         soft_labels  \\\n",
       "0  [{'start': 33, 'prob': 0.33333333330000003, 'e...   \n",
       "1  [{'start': 1, 'prob': 0.6666666667000001, 'end...   \n",
       "2  [{'start': 1, 'prob': 0.33333333330000003, 'en...   \n",
       "3  [{'start': 46, 'prob': 0.33333333330000003, 'e...   \n",
       "4  [{'start': 10, 'prob': 0.33333333330000003, 'e...   \n",
       "5  [{'start': 3, 'prob': 0.33333333330000003, 'en...   \n",
       "6  [{'start': 86, 'prob': 0.6666666667000001, 'en...   \n",
       "7  [{'start': 4, 'prob': 1.0, 'end': 12}, {'start...   \n",
       "\n",
       "                                         hard_labels  \n",
       "0  [[53, 64], [151, 164], [165, 210], [211, 225],...  \n",
       "1  [[1, 4], [49, 53], [87, 103], [232, 246], [262...  \n",
       "2                  [[24, 55], [60, 162], [213, 320]]  \n",
       "3  [[71, 86], [90, 94], [184, 193], [269, 437], [...  \n",
       "4  [[24, 31], [42, 48], [75, 87], [92, 123], [140...  \n",
       "5  [[40, 73], [183, 196], [203, 206], [226, 243],...  \n",
       "6  [[86, 115], [120, 129], [149, 161], [174, 180]...  \n",
       "7  [[4, 12], [16, 27], [29, 40], [43, 54], [100, ...  "
      ]
     },
     "execution_count": 2,
     "metadata": {},
     "output_type": "execute_result"
    }
   ],
   "source": [
    "df = pd.read_json(r'C:\\Users\\FLopezP\\Documents\\GitHub\\Mu-SHROOM-GIL\\sample_ds\\sample_set.v1.json', lines=True) #Cambiar para directorio local\n",
    "df"
   ]
  },
  {
   "cell_type": "code",
   "execution_count": 3,
   "id": "d59ce759-9208-46f8-b105-cc411c260a28",
   "metadata": {},
   "outputs": [],
   "source": [
    "# index corresponde a la columna del dataframe.\n",
    "def info(index = int):\n",
    "    columna = df.loc[index]\n",
    "    return columna[\"model_input\"], columna[\"model_output_text\"], columna[\"soft_labels\"], columna[\"hard_labels\"]\n",
    "\n",
    "ej0 = info(0)"
   ]
  },
  {
   "cell_type": "code",
   "execution_count": 4,
   "id": "cdd02478-d3c9-4ce6-a551-1914bf9dbfc4",
   "metadata": {},
   "outputs": [
    {
     "data": {
      "text/plain": [
       "[{'start': 33, 'prob': 0.33333333330000003, 'end': 53},\n",
       " {'start': 53, 'prob': 0.6666666667000001, 'end': 64},\n",
       " {'start': 64, 'prob': 0.33333333330000003, 'end': 65},\n",
       " {'start': 99, 'prob': 0.33333333330000003, 'end': 151},\n",
       " {'start': 151, 'prob': 1.0, 'end': 164},\n",
       " {'start': 164, 'prob': 0.33333333330000003, 'end': 165},\n",
       " {'start': 165, 'prob': 0.6666666667000001, 'end': 210},\n",
       " {'start': 210, 'prob': 0.33333333330000003, 'end': 211},\n",
       " {'start': 211, 'prob': 1.0, 'end': 224},\n",
       " {'start': 224, 'prob': 0.6666666667000001, 'end': 225},\n",
       " {'start': 225, 'prob': 0.33333333330000003, 'end': 229},\n",
       " {'start': 229, 'prob': 1.0, 'end': 243},\n",
       " {'start': 310, 'prob': 0.33333333330000003, 'end': 393},\n",
       " {'start': 395, 'prob': 0.33333333330000003, 'end': 406},\n",
       " {'start': 406, 'prob': 0.6666666667000001, 'end': 461},\n",
       " {'start': 461, 'prob': 0.33333333330000003, 'end': 497}]"
      ]
     },
     "execution_count": 4,
     "metadata": {},
     "output_type": "execute_result"
    }
   ],
   "source": [
    "ej0[2]"
   ]
  },
  {
   "cell_type": "code",
   "execution_count": 5,
   "id": "d79f3cf2-937f-428b-8f6f-7a2c7bc39041",
   "metadata": {},
   "outputs": [
    {
     "data": {
      "text/plain": [
       "[[53, 64], [151, 164], [165, 210], [211, 225], [229, 243], [406, 461]]"
      ]
     },
     "execution_count": 5,
     "metadata": {},
     "output_type": "execute_result"
    }
   ],
   "source": [
    "ej0[3]"
   ]
  },
  {
   "cell_type": "code",
   "execution_count": 6,
   "id": "84c21f7b-8970-4d81-9a10-077b55c32b6b",
   "metadata": {},
   "outputs": [],
   "source": [
    "# Esta función va a imprimir la pregunta, la respuesta, y las zonas alucinadas.\n",
    "def haluc(index = int):\n",
    "    col = info(index)\n",
    "    print(f\"Pregunta: {col[0]}\")\n",
    "    print(\"---\")\n",
    "    print(f\"Respuesta del modelo: {col[1]}\")\n",
    "    print(\"---\")\n",
    "    print(\"Partes alucinadas: \")\n",
    "    for i in col[3]:\n",
    "        print(col[1][i[0]:i[1]])"
   ]
  },
  {
   "cell_type": "code",
   "execution_count": 7,
   "id": "bc476e29-2f54-448e-a4d0-e35ecbc2e427",
   "metadata": {},
   "outputs": [
    {
     "name": "stdout",
     "output_type": "stream",
     "text": [
      "Pregunta: When was the restoration of the Sándor Palace completed?\n",
      "---\n",
      "Respuesta del modelo:  The restoration of Sándor Palace, also known as the Buda Castle, was completed in several phases. The most significant restoration took place between 1950 and 1961 under the supervision of Hungarian architects Győző Csaplár and Lajos Késmárki. However, it's important to note that various parts of the palace continued to be restored and renovated throughout the decades following this period. Therefore, it is not accurate to pinpoint an exact completion date for the entire restoration project.\n",
      "---\n",
      "Partes alucinadas: \n",
      "Buda Castle\n",
      "1950 and 1961\n",
      "under the supervision of Hungarian architects\n",
      "Győző Csaplár \n",
      "Lajos Késmárki\n",
      "it is not accurate to pinpoint an exact completion date\n"
     ]
    }
   ],
   "source": [
    "haluc(0)"
   ]
  },
  {
   "cell_type": "code",
   "execution_count": 8,
   "id": "1e3b91e6-2f6c-4d2b-9a0c-c6baa7828155",
   "metadata": {},
   "outputs": [
    {
     "name": "stdout",
     "output_type": "stream",
     "text": [
      "Pregunta: Did the Scotland team debut in the UEFA Euro 1996 qualifying phase?\n",
      "---\n",
      "Respuesta del modelo:  Yes, Scotland made their debut in the UEFA Euro 1996 qualifying phase. This was their first appearance in a European Championship qualifying campaign since the inception of the UEFA European Football Championship in 1960. Scotland finished third in their group behind England and Switzerland, missing out on qualification for the tournament.\n",
      "---\n",
      "Partes alucinadas: \n",
      "Yes\n",
      "1996\n",
      "first appearance\n",
      "finished third\n",
      "behind England and Switzerland\n",
      "missing out on qualification\n"
     ]
    }
   ],
   "source": [
    "haluc(1)"
   ]
  },
  {
   "cell_type": "code",
   "execution_count": null,
   "id": "f730daa0-5399-4ce0-91b0-9d73a7d24585",
   "metadata": {},
   "outputs": [],
   "source": []
  }
 ],
 "metadata": {
  "kernelspec": {
   "display_name": "Python 3 (ipykernel)",
   "language": "python",
   "name": "python3"
  },
  "language_info": {
   "codemirror_mode": {
    "name": "ipython",
    "version": 3
   },
   "file_extension": ".py",
   "mimetype": "text/x-python",
   "name": "python",
   "nbconvert_exporter": "python",
   "pygments_lexer": "ipython3",
   "version": "3.9.18"
  }
 },
 "nbformat": 4,
 "nbformat_minor": 5
}
