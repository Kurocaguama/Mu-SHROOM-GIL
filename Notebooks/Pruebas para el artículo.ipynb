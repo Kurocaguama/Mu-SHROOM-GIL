{
 "cells": [
  {
   "cell_type": "code",
   "execution_count": 34,
   "id": "d1a595aa-7bae-4062-b564-5952fe0d8ed9",
   "metadata": {
    "scrolled": true
   },
   "outputs": [],
   "source": [
    "import pandas as pd\n",
    "\n",
    "en_context = pd.read_csv(r'C:\\Users\\FLopezP\\Documents\\GitHub\\Mu-SHROOM-GIL\\Datasets\\full_pipeline_datasets\\Prueba Karla\\en_context_kara.csv')\n",
    "en_context = en_context.drop(columns = ['Unnamed: 0'])\n",
    "\n",
    "en_llm = pd.read_csv(r'C:\\Users\\FLopezP\\Documents\\GitHub\\Mu-SHROOM-GIL\\Datasets\\full_pipeline_datasets\\Prueba Karla\\en_llm_karla.csv')\n",
    "en_llm = en_llm.drop(columns = ['Unnamed: 0'])\n",
    "\n",
    "es_llm = pd.read_csv(r'C:\\Users\\FLopezP\\Documents\\GitHub\\Mu-SHROOM-GIL\\Datasets\\full_pipeline_datasets\\Prueba Karla\\es_llm_karla.csv')\n",
    "es_llm = es_llm.drop(columns = ['Unnamed: 0'])\n",
    "\n",
    "es_context = pd.read_csv(r'C:\\Users\\FLopezP\\Documents\\GitHub\\Mu-SHROOM-GIL\\Datasets\\full_pipeline_datasets\\Prueba Karla\\es_context_karla.csv')\n",
    "es_context = es_context.drop(columns = ['Unnamed: 0'])\n",
    "\n",
    "en_test = pd.read_json(r'C:\\Users\\FLopezP\\Documents\\GitHub\\Mu-SHROOM-GIL\\Datasets\\test_ds\\v1\\mushroom.en-tst.v1.jsonl', lines=True)\n",
    "es_test = pd.read_json(r'C:\\Users\\FLopezP\\Documents\\GitHub\\Mu-SHROOM-GIL\\Datasets\\test_ds\\v1\\mushroom.es-tst.v1.jsonl', lines=True)"
   ]
  },
  {
   "cell_type": "code",
   "execution_count": 53,
   "id": "27a024f1-5ef4-4bae-a070-9d1b55094db9",
   "metadata": {},
   "outputs": [
    {
     "data": {
      "text/html": [
       "<div>\n",
       "<style scoped>\n",
       "    .dataframe tbody tr th:only-of-type {\n",
       "        vertical-align: middle;\n",
       "    }\n",
       "\n",
       "    .dataframe tbody tr th {\n",
       "        vertical-align: top;\n",
       "    }\n",
       "\n",
       "    .dataframe thead th {\n",
       "        text-align: right;\n",
       "    }\n",
       "</style>\n",
       "<table border=\"1\" class=\"dataframe\">\n",
       "  <thead>\n",
       "    <tr style=\"text-align: right;\">\n",
       "      <th></th>\n",
       "      <th>Pregunta</th>\n",
       "      <th>Respuesta LLM</th>\n",
       "      <th>Contexto</th>\n",
       "    </tr>\n",
       "  </thead>\n",
       "  <tbody>\n",
       "    <tr>\n",
       "      <th>0</th>\n",
       "      <td>In which country did Domantas Sabonis start hi...</td>\n",
       "      <td>{'role': 'assistant', 'content': 'Domantas Sab...</td>\n",
       "      <td>Arvydas Romas Sabonis (Lithuanian pronunciatio...</td>\n",
       "    </tr>\n",
       "    <tr>\n",
       "      <th>1</th>\n",
       "      <td>What genus does the hole-in-the-head frog belo...</td>\n",
       "      <td>{'role': 'assistant', 'content': 'The genus of...</td>\n",
       "      <td>The hole-in-the-head frog (Huia cavitympanum) ...</td>\n",
       "    </tr>\n",
       "    <tr>\n",
       "      <th>2</th>\n",
       "      <td>In which year did Cedric Liddell win an Olympi...</td>\n",
       "      <td>{'role': 'assistant', 'content': \"I couldn't f...</td>\n",
       "      <td>The men's eight competition at the 1936 Summer...</td>\n",
       "    </tr>\n",
       "    <tr>\n",
       "      <th>3</th>\n",
       "      <td>In which French region is Saint-Voir located?</td>\n",
       "      <td>{'role': 'assistant', 'content': \"This text do...</td>\n",
       "      <td>Saint-Voir (French pronunciation: [sɛ̃ vwaʁ]) ...</td>\n",
       "    </tr>\n",
       "    <tr>\n",
       "      <th>4</th>\n",
       "      <td>Is there a museum in Altadena, CA?</td>\n",
       "      <td>{'role': 'assistant', 'content': 'Yes, there w...</td>\n",
       "      <td>Altadena (AL-tə-DEE-nə) is an unincorporated a...</td>\n",
       "    </tr>\n",
       "  </tbody>\n",
       "</table>\n",
       "</div>"
      ],
      "text/plain": [
       "                                            Pregunta  \\\n",
       "0  In which country did Domantas Sabonis start hi...   \n",
       "1  What genus does the hole-in-the-head frog belo...   \n",
       "2  In which year did Cedric Liddell win an Olympi...   \n",
       "3      In which French region is Saint-Voir located?   \n",
       "4                 Is there a museum in Altadena, CA?   \n",
       "\n",
       "                                       Respuesta LLM  \\\n",
       "0  {'role': 'assistant', 'content': 'Domantas Sab...   \n",
       "1  {'role': 'assistant', 'content': 'The genus of...   \n",
       "2  {'role': 'assistant', 'content': \"I couldn't f...   \n",
       "3  {'role': 'assistant', 'content': \"This text do...   \n",
       "4  {'role': 'assistant', 'content': 'Yes, there w...   \n",
       "\n",
       "                                            Contexto  \n",
       "0  Arvydas Romas Sabonis (Lithuanian pronunciatio...  \n",
       "1  The hole-in-the-head frog (Huia cavitympanum) ...  \n",
       "2  The men's eight competition at the 1936 Summer...  \n",
       "3  Saint-Voir (French pronunciation: [sɛ̃ vwaʁ]) ...  \n",
       "4  Altadena (AL-tə-DEE-nə) is an unincorporated a...  "
      ]
     },
     "execution_count": 53,
     "metadata": {},
     "output_type": "execute_result"
    }
   ],
   "source": [
    "en_llm.head()"
   ]
  },
  {
   "cell_type": "code",
   "execution_count": 30,
   "id": "e6a6c788-37ca-479c-9619-87fae456f944",
   "metadata": {},
   "outputs": [],
   "source": [
    "def word_avg(df_col):\n",
    "    avg_len = 0 \n",
    "    for _ in df_col:\n",
    "        aux = str(_).split()\n",
    "        avg_len += len(aux)\n",
    "    print(avg_len/len(df_col))"
   ]
  },
  {
   "cell_type": "code",
   "execution_count": 31,
   "id": "bb5fc9ae-d28c-4119-a4a5-49cb6f31e5fe",
   "metadata": {},
   "outputs": [
    {
     "name": "stdout",
     "output_type": "stream",
     "text": [
      "262.2207792207792\n",
      "39.04545454545455\n",
      "287.73026315789474\n",
      "75.84868421052632\n"
     ]
    }
   ],
   "source": [
    "word_avg(en_context[\"Texto\"])\n",
    "word_avg(en_test[\"model_output_text\"])\n",
    "word_avg(es_context[\"Texto\"])\n",
    "word_avg(es_test[\"model_output_text\"])"
   ]
  },
  {
   "cell_type": "code",
   "execution_count": 61,
   "id": "4c770401-7ad9-4f22-b028-662b22623483",
   "metadata": {},
   "outputs": [
    {
     "name": "stdout",
     "output_type": "stream",
     "text": [
      "16.376623376623378\n",
      "25.348684210526315\n"
     ]
    }
   ],
   "source": [
    "avg = 0\n",
    "avg1 = 0\n",
    "for _ in en_llm[\"Respuesta LLM\"]:\n",
    "    aux = _[34:-2].split()\n",
    "    avg += len(aux)\n",
    "\n",
    "for _ in es_llm[\"Respuesta LLM\"]:\n",
    "    aux  = _[34:-2].split()\n",
    "    avg1 += len(aux)\n",
    "    \n",
    "\n",
    "print(avg/len(en_llm[\"Respuesta LLM\"]))\n",
    "print(avg1/len(es_llm[\"Respuesta LLM\"]))"
   ]
  },
  {
   "cell_type": "code",
   "execution_count": 59,
   "id": "aeb78eeb-575a-4fa0-af4d-9dfb873d5cef",
   "metadata": {},
   "outputs": [
    {
     "data": {
      "text/plain": [
       "'Las tres protagonistas en la película \"Faster, Pussycat! Kill! Kill!\" son:\\\\n\\\\n1. Tura Satana\\\\n2. Leticia Sella\\\\n3. Lori Cardille'"
      ]
     },
     "execution_count": 59,
     "metadata": {},
     "output_type": "execute_result"
    }
   ],
   "source": [
    "ola = es_llm[\"Respuesta LLM\"][0]\n",
    "ola[34:-2]"
   ]
  },
  {
   "cell_type": "code",
   "execution_count": null,
   "id": "ab52d3b0-c396-4475-9eb2-527821810ac7",
   "metadata": {},
   "outputs": [],
   "source": []
  }
 ],
 "metadata": {
  "kernelspec": {
   "display_name": "Python 3 (ipykernel)",
   "language": "python",
   "name": "python3"
  },
  "language_info": {
   "codemirror_mode": {
    "name": "ipython",
    "version": 3
   },
   "file_extension": ".py",
   "mimetype": "text/x-python",
   "name": "python",
   "nbconvert_exporter": "python",
   "pygments_lexer": "ipython3",
   "version": "3.9.18"
  }
 },
 "nbformat": 4,
 "nbformat_minor": 5
}
