{
 "cells": [
  {
   "cell_type": "code",
   "execution_count": 1,
   "id": "d4717bcb-57e2-44cf-baf3-ae9b99b90c33",
   "metadata": {},
   "outputs": [
    {
     "data": {
      "application/vnd.jupyter.widget-view+json": {
       "model_id": "085746cff6bf4705a310c52ad705436f",
       "version_major": 2,
       "version_minor": 0
      },
      "text/plain": [
       "Fetching 30 files:   0%|          | 0/30 [00:00<?, ?it/s]"
      ]
     },
     "metadata": {},
     "output_type": "display_data"
    }
   ],
   "source": [
    "import wikipedia\n",
    "import pandas as pd\n",
    "import spacy\n",
    "\n",
    "from FlagEmbedding import BGEM3FlagModel\n",
    "model = BGEM3FlagModel('BAAI/bge-m3', use_fp16 = True)"
   ]
  },
  {
   "cell_type": "code",
   "execution_count": 2,
   "id": "b5adb5a6-6dc9-4ad5-960d-8adc0c1a5476",
   "metadata": {},
   "outputs": [
    {
     "data": {
      "text/html": [
       "<div>\n",
       "<style scoped>\n",
       "    .dataframe tbody tr th:only-of-type {\n",
       "        vertical-align: middle;\n",
       "    }\n",
       "\n",
       "    .dataframe tbody tr th {\n",
       "        vertical-align: top;\n",
       "    }\n",
       "\n",
       "    .dataframe thead th {\n",
       "        text-align: right;\n",
       "    }\n",
       "</style>\n",
       "<table border=\"1\" class=\"dataframe\">\n",
       "  <thead>\n",
       "    <tr style=\"text-align: right;\">\n",
       "      <th></th>\n",
       "      <th>lang</th>\n",
       "      <th>model_id</th>\n",
       "      <th>model_input</th>\n",
       "      <th>model_output_text</th>\n",
       "      <th>model_output_logits</th>\n",
       "      <th>model_output_tokens</th>\n",
       "    </tr>\n",
       "  </thead>\n",
       "  <tbody>\n",
       "    <tr>\n",
       "      <th>0</th>\n",
       "      <td>EN</td>\n",
       "      <td>togethercomputer/Pythia-Chat-Base-7B</td>\n",
       "      <td>Do all arthropods have antennae?</td>\n",
       "      <td>Yes, all insects and arachnids (including spi...</td>\n",
       "      <td>[-2.57427001, 5.1865358353, 5.4173498154, 2.32...</td>\n",
       "      <td>[ĠYes, ,, Ġall, Ġinsects, Ġand, Ġar, ach, n, i...</td>\n",
       "    </tr>\n",
       "    <tr>\n",
       "      <th>1</th>\n",
       "      <td>EN</td>\n",
       "      <td>togethercomputer/Pythia-Chat-Base-7B</td>\n",
       "      <td>Do all arthropods have antennae?</td>\n",
       "      <td>Yes, all insects and arachnids have at least ...</td>\n",
       "      <td>[-2.57427001, 5.1865358353, 5.4173498154, 2.32...</td>\n",
       "      <td>[ĠYes, ,, Ġall, Ġinsects, Ġand, Ġar, ach, n, i...</td>\n",
       "    </tr>\n",
       "    <tr>\n",
       "      <th>2</th>\n",
       "      <td>EN</td>\n",
       "      <td>togethercomputer/Pythia-Chat-Base-7B</td>\n",
       "      <td>Do all arthropods have antennae?</td>\n",
       "      <td>Yes, all insects and arachnids (including spi...</td>\n",
       "      <td>[-2.57427001, 5.1865358353, 5.4173498154, 2.32...</td>\n",
       "      <td>[ĠYes, ,, Ġall, Ġinsects, Ġand, Ġar, ach, n, i...</td>\n",
       "    </tr>\n",
       "    <tr>\n",
       "      <th>3</th>\n",
       "      <td>EN</td>\n",
       "      <td>togethercomputer/Pythia-Chat-Base-7B</td>\n",
       "      <td>Do all arthropods have antennae?</td>\n",
       "      <td>Yes, all insects and arachnids (including spi...</td>\n",
       "      <td>[-2.57427001, 5.1865358353, 5.4173498154, 2.32...</td>\n",
       "      <td>[ĠYes, ,, Ġall, Ġinsects, Ġand, Ġar, ach, n, i...</td>\n",
       "    </tr>\n",
       "    <tr>\n",
       "      <th>4</th>\n",
       "      <td>EN</td>\n",
       "      <td>togethercomputer/Pythia-Chat-Base-7B</td>\n",
       "      <td>Do all arthropods have antennae?</td>\n",
       "      <td>Yes, all insects and arachnids (including spi...</td>\n",
       "      <td>[-2.57427001, 5.1865358353, 5.4173498154, 2.32...</td>\n",
       "      <td>[ĠYes, ,, Ġall, Ġinsects, Ġand, Ġar, ach, n, i...</td>\n",
       "    </tr>\n",
       "  </tbody>\n",
       "</table>\n",
       "</div>"
      ],
      "text/plain": [
       "  lang                              model_id  \\\n",
       "0   EN  togethercomputer/Pythia-Chat-Base-7B   \n",
       "1   EN  togethercomputer/Pythia-Chat-Base-7B   \n",
       "2   EN  togethercomputer/Pythia-Chat-Base-7B   \n",
       "3   EN  togethercomputer/Pythia-Chat-Base-7B   \n",
       "4   EN  togethercomputer/Pythia-Chat-Base-7B   \n",
       "\n",
       "                        model_input  \\\n",
       "0  Do all arthropods have antennae?   \n",
       "1  Do all arthropods have antennae?   \n",
       "2  Do all arthropods have antennae?   \n",
       "3  Do all arthropods have antennae?   \n",
       "4  Do all arthropods have antennae?   \n",
       "\n",
       "                                   model_output_text  \\\n",
       "0   Yes, all insects and arachnids (including spi...   \n",
       "1   Yes, all insects and arachnids have at least ...   \n",
       "2   Yes, all insects and arachnids (including spi...   \n",
       "3   Yes, all insects and arachnids (including spi...   \n",
       "4   Yes, all insects and arachnids (including spi...   \n",
       "\n",
       "                                 model_output_logits  \\\n",
       "0  [-2.57427001, 5.1865358353, 5.4173498154, 2.32...   \n",
       "1  [-2.57427001, 5.1865358353, 5.4173498154, 2.32...   \n",
       "2  [-2.57427001, 5.1865358353, 5.4173498154, 2.32...   \n",
       "3  [-2.57427001, 5.1865358353, 5.4173498154, 2.32...   \n",
       "4  [-2.57427001, 5.1865358353, 5.4173498154, 2.32...   \n",
       "\n",
       "                                 model_output_tokens  \n",
       "0  [ĠYes, ,, Ġall, Ġinsects, Ġand, Ġar, ach, n, i...  \n",
       "1  [ĠYes, ,, Ġall, Ġinsects, Ġand, Ġar, ach, n, i...  \n",
       "2  [ĠYes, ,, Ġall, Ġinsects, Ġand, Ġar, ach, n, i...  \n",
       "3  [ĠYes, ,, Ġall, Ġinsects, Ġand, Ġar, ach, n, i...  \n",
       "4  [ĠYes, ,, Ġall, Ġinsects, Ġand, Ġar, ach, n, i...  "
      ]
     },
     "execution_count": 2,
     "metadata": {},
     "output_type": "execute_result"
    }
   ],
   "source": [
    "df_en = pd.read_json(r'C:\\Users\\FLopezP\\Documents\\GitHub\\Mu-SHROOM-GIL\\Datasets\\train_ds\\mushroom.en-train_nolabel.v1.jsonl', lines=True) #Cambiar para directorio local\n",
    "df_en.head(5)"
   ]
  },
  {
   "cell_type": "code",
   "execution_count": 3,
   "id": "fe822aa8-49af-4723-a133-9a6c83b07200",
   "metadata": {},
   "outputs": [],
   "source": [
    "# Estas tres partes están bastante bien.\n",
    "# El problema siento que radica en la siguiente celda donde recuperamos el resumen de cada página en vez de las secciones relevantes.\n",
    "def noun_list(a, lang):\n",
    "    \"\"\"\n",
    "    Filtra la pregunta y obtiene las PoST relevantes.\n",
    "    \n",
    "    a = list; Lista de preguntas del dataset\n",
    "    lang = 'es' or 'en'; Idioma a trabajar\n",
    "    \"\"\"\n",
    "    if lang == 'es':\n",
    "        post_spacy = spacy.load(\"es_core_news_sm\")\n",
    "    else:\n",
    "        post_spacy = spacy.load(\"en_core_web_sm\")\n",
    "    noun_list = []\n",
    "    nums = ['0','1','2','3','4','5','6','7','8','9']\n",
    "\n",
    "    for _ in a:\n",
    "        doc = post_spacy(_)\n",
    "        sub_noun = []\n",
    "        for token in doc:\n",
    "            if token.pos_ == \"NOUN\" or token.pos_ == \"PROPN\" or token.pos_ == \"NUM\":\n",
    "                sub_noun.append(token.text)\n",
    "            if token.pos_ == \"ADJ\" and token.text[0] in nums:\n",
    "                sub_noun.append(token.text)\n",
    "        noun_list.append(sub_noun)\n",
    "    return noun_list\n",
    "\n",
    "def keyword_por_preg(n_list):\n",
    "    \"\"\"\n",
    "    Junta lista de PoST previo a pasarlo por el API de Wikipedia.\n",
    "    \n",
    "    n_list = list; Obtenida de la función noun_list().\n",
    "    \"\"\"\n",
    "    keyword_list = []\n",
    "    for i in n_list:\n",
    "        keyword = ''\n",
    "        for j in i:\n",
    "            keyword = keyword + j + ' '\n",
    "        keyword_list.append(keyword)\n",
    "    return keyword_list\n",
    "\n",
    "def get_wikipage(text, lang, page_total):\n",
    "    \"\"\"\n",
    "    Regresa las n páginas de Wikipedia más relevantes al query\n",
    "\n",
    "    text = str; Texto proveniente de la función keyword_por_preg()\n",
    "    lang = 'es' or 'en'; Lenguaje necesario para wikipedia\n",
    "    page_total = int; Cantidad de páginas a regresar\n",
    "    \"\"\"\n",
    "    if lang == 'es':\n",
    "        wikipedia.set_lang('es')\n",
    "    if lang == 'en':\n",
    "        wikipedia.set_lang('en')\n",
    "    page_title = wikipedia.search(text, results = page_total)\n",
    "    return page_title"
   ]
  },
  {
   "cell_type": "code",
   "execution_count": 4,
   "id": "c277961c-c4d8-4e8a-9f79-1b4bdecdfaf0",
   "metadata": {},
   "outputs": [],
   "source": [
    "def get_content(wiki_names):\n",
    "    \"\"\"\n",
    "    Regresa la lista content con las páginas filtradas y segmentadas.\n",
    "\n",
    "    wiki_names = list ; Lista de los nombres de páginas de Wikipedia. Extraído del dataset. \n",
    "    \"\"\"\n",
    "    p_content = []\n",
    "    content = []\n",
    "    \n",
    "    for _ in wiki_names:\n",
    "        try:\n",
    "            page = wikipedia.WikipediaPage(_)\n",
    "        except wikipedia.exceptions.DisambiguationError:\n",
    "            print(\"Error\")\n",
    "        text = page.content.replace('\\n', '')\n",
    "        text = text.replace('\\t', '')\n",
    "        p_content.append(text)\n",
    "\n",
    "    for _ in p_content:\n",
    "        _ = _.split(\"===\")\n",
    "        texto = [i.replace('=', '') for i in _]\n",
    "        aux = []\n",
    "        for j in texto:\n",
    "            if len(j) > 60:\n",
    "                aux.append(j)\n",
    "        content.append(aux)\n",
    "\n",
    "    return content\n",
    "\n",
    "def embeddings_t1(seg_txt):\n",
    "    \"\"\"\n",
    "    Obtenemos los embeddings de cada elemento de seg_txt\n",
    "\n",
    "    seg_txt = list ; Instancia única de content_list (content_list[i] for i in N)\n",
    "    \"\"\"\n",
    "    len_list = [len(_) for _ in seg_txt]\n",
    "    max_len = max(len_list)\n",
    "    embedding_list = []\n",
    "    for i in seg_txt:\n",
    "        embs = model.encode(\n",
    "            i,\n",
    "            batch_size = 12,\n",
    "            max_length = max_len,\n",
    "        )[\"dense_vecs\"]\n",
    "\n",
    "        embeddings = [_ for _ in embs]\n",
    "        embedding_list.append(embeddings)\n",
    "    return embedding_list\n",
    "\n",
    "def get_content_embs(content_list):\n",
    "    \"\"\"\n",
    "    Genera la lista de content_embeddings a partir de la lista \"content\" correspondiente.\n",
    "\n",
    "    content_list  = list ; lista obtenida \n",
    "    \"\"\"\n",
    "    content_embs = [embeddings_t1(_) for _ in content_list]\n",
    "    return content_embs"
   ]
  },
  {
   "cell_type": "code",
   "execution_count": 6,
   "id": "26924c8d-f8ab-48be-93ee-29d22d7d4182",
   "metadata": {},
   "outputs": [],
   "source": [
    "def ds_procesamiento(dataset, lang):\n",
    "    \"\"\"\n",
    "    Regresa un dataset bien formateado, acá chido para todo el procesamiento.\n",
    "    \n",
    "    dataset = pd.DataFrame ; El dataset mismo, así encuerado.\n",
    "    lang = str ; 'es' or 'en' Para determinar el idioma.\n",
    "    \"\"\"\n",
    "    a = keyword_por_preg(noun_list(dataset[\"model_input\"], lang))\n",
    "    dataset[\"output_filtrado\"] = a\n",
    "\n",
    "    a_set = list(set(a))\n",
    "    dic = {}\n",
    "    for _ in a_set:\n",
    "        aux = get_wikipage(_, lang, 3)\n",
    "        if not aux:\n",
    "            print(f\"Problema con: {_}\")\n",
    "        dic[f\"{_}\"] = aux\n",
    "\n",
    "    aux1 = []\n",
    "    for i in range(len(dataset[\"output_filtrado\"])):\n",
    "        if dataset[\"output_filtrado\"][i] in dic:\n",
    "            aux1.append(dic[dataset[\"output_filtrado\"][i]])\n",
    "    dataset[\"Wiki Asociado\"] = aux1\n",
    "    return dataset"
   ]
  },
  {
   "cell_type": "code",
   "execution_count": 7,
   "id": "4a2eb200-09ac-4dd9-b253-e61bcdc6e6cb",
   "metadata": {},
   "outputs": [
    {
     "name": "stdout",
     "output_type": "stream",
     "text": [
      "Problema con: Bischofsheim constitutent community Mainz \n",
      "CPU times: total: 2.28 s\n",
      "Wall time: 20.2 s\n"
     ]
    },
    {
     "data": {
      "text/html": [
       "<div>\n",
       "<style scoped>\n",
       "    .dataframe tbody tr th:only-of-type {\n",
       "        vertical-align: middle;\n",
       "    }\n",
       "\n",
       "    .dataframe tbody tr th {\n",
       "        vertical-align: top;\n",
       "    }\n",
       "\n",
       "    .dataframe thead th {\n",
       "        text-align: right;\n",
       "    }\n",
       "</style>\n",
       "<table border=\"1\" class=\"dataframe\">\n",
       "  <thead>\n",
       "    <tr style=\"text-align: right;\">\n",
       "      <th></th>\n",
       "      <th>lang</th>\n",
       "      <th>model_id</th>\n",
       "      <th>model_input</th>\n",
       "      <th>model_output_text</th>\n",
       "      <th>model_output_logits</th>\n",
       "      <th>model_output_tokens</th>\n",
       "      <th>output_filtrado</th>\n",
       "      <th>Wiki Asociado</th>\n",
       "    </tr>\n",
       "  </thead>\n",
       "  <tbody>\n",
       "    <tr>\n",
       "      <th>0</th>\n",
       "      <td>EN</td>\n",
       "      <td>togethercomputer/Pythia-Chat-Base-7B</td>\n",
       "      <td>Do all arthropods have antennae?</td>\n",
       "      <td>Yes, all insects and arachnids (including spi...</td>\n",
       "      <td>[-2.57427001, 5.1865358353, 5.4173498154, 2.32...</td>\n",
       "      <td>[ĠYes, ,, Ġall, Ġinsects, Ġand, Ġar, ach, n, i...</td>\n",
       "      <td>arthropods</td>\n",
       "      <td>[Arthropod, 2018 in arthropod paleontology, Ar...</td>\n",
       "    </tr>\n",
       "    <tr>\n",
       "      <th>1</th>\n",
       "      <td>EN</td>\n",
       "      <td>togethercomputer/Pythia-Chat-Base-7B</td>\n",
       "      <td>Do all arthropods have antennae?</td>\n",
       "      <td>Yes, all insects and arachnids have at least ...</td>\n",
       "      <td>[-2.57427001, 5.1865358353, 5.4173498154, 2.32...</td>\n",
       "      <td>[ĠYes, ,, Ġall, Ġinsects, Ġand, Ġar, ach, n, i...</td>\n",
       "      <td>arthropods</td>\n",
       "      <td>[Arthropod, 2018 in arthropod paleontology, Ar...</td>\n",
       "    </tr>\n",
       "    <tr>\n",
       "      <th>2</th>\n",
       "      <td>EN</td>\n",
       "      <td>togethercomputer/Pythia-Chat-Base-7B</td>\n",
       "      <td>Do all arthropods have antennae?</td>\n",
       "      <td>Yes, all insects and arachnids (including spi...</td>\n",
       "      <td>[-2.57427001, 5.1865358353, 5.4173498154, 2.32...</td>\n",
       "      <td>[ĠYes, ,, Ġall, Ġinsects, Ġand, Ġar, ach, n, i...</td>\n",
       "      <td>arthropods</td>\n",
       "      <td>[Arthropod, 2018 in arthropod paleontology, Ar...</td>\n",
       "    </tr>\n",
       "  </tbody>\n",
       "</table>\n",
       "</div>"
      ],
      "text/plain": [
       "  lang                              model_id  \\\n",
       "0   EN  togethercomputer/Pythia-Chat-Base-7B   \n",
       "1   EN  togethercomputer/Pythia-Chat-Base-7B   \n",
       "2   EN  togethercomputer/Pythia-Chat-Base-7B   \n",
       "\n",
       "                        model_input  \\\n",
       "0  Do all arthropods have antennae?   \n",
       "1  Do all arthropods have antennae?   \n",
       "2  Do all arthropods have antennae?   \n",
       "\n",
       "                                   model_output_text  \\\n",
       "0   Yes, all insects and arachnids (including spi...   \n",
       "1   Yes, all insects and arachnids have at least ...   \n",
       "2   Yes, all insects and arachnids (including spi...   \n",
       "\n",
       "                                 model_output_logits  \\\n",
       "0  [-2.57427001, 5.1865358353, 5.4173498154, 2.32...   \n",
       "1  [-2.57427001, 5.1865358353, 5.4173498154, 2.32...   \n",
       "2  [-2.57427001, 5.1865358353, 5.4173498154, 2.32...   \n",
       "\n",
       "                                 model_output_tokens output_filtrado  \\\n",
       "0  [ĠYes, ,, Ġall, Ġinsects, Ġand, Ġar, ach, n, i...     arthropods    \n",
       "1  [ĠYes, ,, Ġall, Ġinsects, Ġand, Ġar, ach, n, i...     arthropods    \n",
       "2  [ĠYes, ,, Ġall, Ġinsects, Ġand, Ġar, ach, n, i...     arthropods    \n",
       "\n",
       "                                       Wiki Asociado  \n",
       "0  [Arthropod, 2018 in arthropod paleontology, Ar...  \n",
       "1  [Arthropod, 2018 in arthropod paleontology, Ar...  \n",
       "2  [Arthropod, 2018 in arthropod paleontology, Ar...  "
      ]
     },
     "execution_count": 7,
     "metadata": {},
     "output_type": "execute_result"
    }
   ],
   "source": [
    "%%time\n",
    "aux_n = ds_procesamiento(df_en, 'en')\n",
    "aux_n.head(3)"
   ]
  },
  {
   "cell_type": "code",
   "execution_count": 8,
   "id": "cb94e57e-24fe-4c1d-836a-b29bbb02ec55",
   "metadata": {},
   "outputs": [
    {
     "data": {
      "text/plain": [
       "['Arthropod', '2018 in arthropod paleontology', 'Arthropod exoskeleton']"
      ]
     },
     "execution_count": 8,
     "metadata": {},
     "output_type": "execute_result"
    }
   ],
   "source": [
    "temp_wiki = aux_n[\"Wiki Asociado\"][0]\n",
    "temp_wiki"
   ]
  },
  {
   "cell_type": "code",
   "execution_count": 9,
   "id": "ed63a5f4-098d-4796-ab29-3914c8e1edbe",
   "metadata": {},
   "outputs": [
    {
     "name": "stderr",
     "output_type": "stream",
     "text": [
      "You're using a XLMRobertaTokenizerFast tokenizer. Please note that with a fast tokenizer, using the `__call__` method is faster than using a method to encode the text followed by a call to the `pad` method to get a padded encoding.\n"
     ]
    },
    {
     "name": "stdout",
     "output_type": "stream",
     "text": [
      "3 3\n",
      "CPU times: total: 5.64 s\n",
      "Wall time: 4.58 s\n"
     ]
    }
   ],
   "source": [
    "%%time\n",
    "content = get_content(temp_wiki)\n",
    "content_embs = get_content_embs(content)\n",
    "print(len(content), len(content_embs))"
   ]
  },
  {
   "cell_type": "code",
   "execution_count": 8,
   "id": "b39b5a13-ad76-4cef-9671-37f6ae047a80",
   "metadata": {},
   "outputs": [],
   "source": [
    "# Hasta este punto tenemos un dataset con los outputs extraídos por pregunta, las páginas de wikipedia correspondientes\n",
    "# Y los embeddings segmentados de dichas páginas.\n",
    "\n",
    "# Tenemos que encontrar similitudes entre pregunta y top 5-10 párrafos segmentados.\n",
    "\n",
    "# Tal vez tener todos los embeddings separados por página no es lo mejor"
   ]
  },
  {
   "cell_type": "code",
   "execution_count": 10,
   "id": "25969ba1-c655-40d7-bcec-94dd8efc7672",
   "metadata": {},
   "outputs": [
    {
     "name": "stdout",
     "output_type": "stream",
     "text": [
      "0.6157\n"
     ]
    }
   ],
   "source": [
    "# Preg_Emb\n",
    "def similarity(t1, t2):\n",
    "    return t1 @ t2\n",
    "\n",
    "preg = df_en[\"model_input\"][0]\n",
    "\n",
    "preg_emb = model.encode(\n",
    "    preg,\n",
    "    batch_size = 12,\n",
    "    max_length = 1024,\n",
    ")['dense_vecs']\n",
    "\n",
    "print(similarity(preg_emb, content_embs[0][0]))"
   ]
  },
  {
   "cell_type": "code",
   "execution_count": 19,
   "id": "5a849efc-0049-4cf0-9302-4a37672ab25e",
   "metadata": {
    "scrolled": true
   },
   "outputs": [
    {
     "name": "stdout",
     "output_type": "stream",
     "text": [
      "[(0.6157, 'Arthropods ( ARTH-rə-pod) are invertebrates in the phylum Arthropoda. They possess an exoskeleton with a cuticle made of chitin, often mineralised with calcium carbonate, a body with differentiated (metameric) segments, and paired jointed appendages. In order to keep growing, they must go through stages of moulting, a process by which they shed their exoskeleton to reveal a new one. They form an extremely diverse group of up to ten million species.Haemolymph is the analogue of blood for most arthropods.  An arthropod has an open circulatory system, with a body cavity called a haemocoel through which haemolymph circulates to the interior organs. Like their exteriors, the internal organs of arthropods are generally built of repeated segments. They have ladder-like nervous systems, with paired ventral nerve cords running through all segments and forming paired ganglia in each segment. Their heads are formed by fusion of varying numbers of segments, and their brains are formed by fusion of the ganglia of these segments and encircle the esophagus. The respiratory and excretory systems of arthropods vary, depending as much on their environment as on the subphylum to which they belong.Arthropods use combinations of compound eyes and pigment-pit ocelli for vision. In most species, the ocelli can only detect the direction from which light is coming, and the compound eyes are the main source of information, but the main eyes of spiders are ocelli that can form images and, in a few cases, can swivel to track prey. Arthropods also have a wide range of chemical and mechanical sensors, mostly based on modifications of the many bristles known as setae that project through their cuticles. Similarly, their reproduction and development are varied; all terrestrial species use internal fertilization, but this is sometimes by indirect transfer of the sperm via an appendage or the ground, rather than by direct injection. Aquatic species use either internal or external fertilization. Almost all arthropods lay eggs, with many species giving birth to live young after the eggs have hatched inside the mother; but a few are genuinely viviparous, such as aphids. Arthropod hatchlings vary from miniature adults to grubs and caterpillars that lack jointed limbs and eventually undergo a total metamorphosis to produce the adult form. The level of maternal care for hatchlings varies from nonexistent to the prolonged care provided by social insects.The evolutionary ancestry of arthropods dates back to the Cambrian period. The group is generally regarded as monophyletic, and many analyses support the placement of arthropods with cycloneuralians (or their constituent clades) in a superphylum Ecdysozoa. Overall, however, the basal relationships of animals are not yet well resolved. Likewise, the relationships between various arthropod groups are still actively debated. Today, arthropods contribute to the human food supply both directly as food, and more importantly, indirectly as pollinators of crops. Some species are known to spread severe disease to humans, livestock, and crops. Etymology The word arthropod comes from the Greek ἄρθρον árthron \\'joint\\', and πούς pous (gen. ποδός podos) \\'foot\\' or \\'leg\\', which together mean \"jointed leg\", with the word \"arthropodes\" initially used in anatomical descriptions by Barthélemy Charles Joseph Dumortier published in 1832. The designation \"Arthropoda\" appears to have been first used in 1843 by the German zoologist Johann Ludwig Christian Gravenhorst (1777–1857). The origin of the name has been the subject of considerable confusion, with credit often given erroneously to Pierre André Latreille or Karl Theodor Ernst von Siebold instead, among various others.Terrestrial arthropods are often called bugs.  The term is also occasionally extended to colloquial names for freshwater or marine crustaceans (e.g., Balmain bug, Moreton Bay bug, mudbug) and used by physicians and bacteriologists for disease-causing germs (e.g., superbugs), but entomologists reserve this term for a narrow category of \"true bugs\", insects of the order Hemiptera. Description Arthropods are invertebrates with segmented bodies and jointed limbs. The exoskeleton or cuticles consists of chitin, a polymer of N-Acetylglucosamine. The cuticle of many crustaceans, beetle mites, the clades Penetini and Archaeoglenini inside the beetle subfamily Phrenapatinae, and millipedes (except for bristly millipedes) is also biomineralized with calcium carbonate. Calcification of the endosternite, an internal structure used for muscle attachments, also occur in some opiliones, and the pupal cuticle of the fly Bactrocera dorsalis contains calcium phosphate.'), (0.6055, 'The stiff cuticles of arthropods would block out information about the outside world, except that they are penetrated by many sensors or connections from sensors to the nervous system. In fact, arthropods have modified their cuticles into elaborate arrays of sensors. Various touch sensors, mostly setae, respond to different levels of force, from strong contact to very weak air currents. Chemical sensors provide equivalents of taste and smell, often by means of setae. Pressure sensors often take the form of membranes that function as eardrums, but are connected directly to nerves rather than to auditory ossicles. The antennae of most hexapods include sensor packages that monitor humidity, moisture and temperature.Most arthropods lack balance and acceleration sensors, and rely on their eyes to tell them which way is up. The self-righting behavior of cockroaches is triggered when pressure sensors on the underside of the feet report no pressure. However, many malacostracan crustaceans have statocysts, which provide the same sort of information as the balance and motion sensors of the vertebrate inner ear.The proprioceptors of arthropods, sensors that report the force exerted by muscles and the degree of bending in the body and joints, are well understood. However, little is known about what other internal sensors arthropods may have.'), (0.5854, 'The embryos of all arthropods are segmented, built from a series of repeated modules. The last common ancestor of living arthropods probably consisted of a series of undifferentiated segments, each with a pair of appendages that functioned as limbs. However, all known living and fossil arthropods have grouped segments into tagmata in which segments and their limbs are specialized in various ways.The three-part appearance of many insect bodies and the two-part appearance of spiders is a result of this grouping. There are no external signs of segmentation in mites. Arthropods also have two body elements that are not part of this serially repeated pattern of segments, an ocular somite at the front, where the mouth and eyes originated, and a telson at the rear, behind the anus.Originally, it seems that each appendage-bearing segment had two separate pairs of appendages: an upper, unsegmented exite and a lower, segmented endopod. These would later fuse into a single pair of biramous appendages united by a basal segment (protopod or basipod), with the upper branch acting as a gill while the lower branch was used for locomotion. The appendages of most crustaceans and some extinct taxa such as trilobites have another segmented branch known as exopods, but whether these structures have a single origin remain controversial. In some segments of all known arthropods, the appendages have been modified, for example to form gills, mouth-parts, antennae for collecting information, or claws for grasping; arthropods are \"like Swiss Army knives, each equipped with a unique set of specialized tools.\" In many arthropods, appendages have vanished from some regions of the body; it is particularly common for abdominal appendages to have disappeared or be highly modified.The most conspicuous specialization of segments is in the head. The four major groups of arthropods – Chelicerata (sea spiders, horseshoe crabs and arachnids), Myriapoda (symphylans, pauropods, millipedes and centipedes), Pancrustacea (oligostracans, copepods, malacostracans, branchiopods, hexapods, etc.), and the extinct Trilobita – have heads formed of various combinations of segments, with appendages that are missing or specialized in different ways. Despite myriapods and hexapods both having similar head combinations, hexapods are deeply nested within crustacea while myriapods are not, so these traits are believed to have evolved separately. In addition, some extinct arthropods, such as Marrella, belong to none of these groups, as their heads are formed by their own particular combinations of segments and specialized appendages.Working out the evolutionary stages by which all these different combinations could have appeared is so difficult that it has long been known as \"The arthropod head problem\". In 1960, R. E. Snodgrass even hoped it would not be solved, as he found trying to work out solutions to be fun.')]\n"
     ]
    }
   ],
   "source": [
    "full = []\n",
    "simi_list = []\n",
    "for i in range(len(content)):\n",
    "    aux = list(zip(content[i], content_embs[i]))\n",
    "    for _ in aux:\n",
    "        full.append(_)\n",
    "\n",
    "simi_list = [(similarity(preg_emb, _[1]), _[0]) for _ in full]\n",
    "simi_list.sort(reverse=True)\n",
    "# Con esto tenemos los n valores segmentados más relevantes dada la pregunta."
   ]
  },
  {
   "cell_type": "code",
   "execution_count": null,
   "id": "3215e1ea-7351-468c-8da7-868e3314db9e",
   "metadata": {},
   "outputs": [],
   "source": []
  }
 ],
 "metadata": {
  "kernelspec": {
   "display_name": "Python 3 (ipykernel)",
   "language": "python",
   "name": "python3"
  },
  "language_info": {
   "codemirror_mode": {
    "name": "ipython",
    "version": 3
   },
   "file_extension": ".py",
   "mimetype": "text/x-python",
   "name": "python",
   "nbconvert_exporter": "python",
   "pygments_lexer": "ipython3",
   "version": "3.9.18"
  }
 },
 "nbformat": 4,
 "nbformat_minor": 5
}
